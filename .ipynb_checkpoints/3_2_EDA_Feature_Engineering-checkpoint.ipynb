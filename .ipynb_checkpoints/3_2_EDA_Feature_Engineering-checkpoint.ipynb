{
 "cells": [
  {
   "cell_type": "markdown",
   "id": "437ac784",
   "metadata": {},
   "source": [
    "Ideas\n",
    "- write sliding window-ish function to pull all data from stonks following each of powells speeches to look at histograms, boxplots, etc. for totals after speeches vs entire time span aggregated"
   ]
  },
  {
   "cell_type": "markdown",
   "id": "a2e66510",
   "metadata": {},
   "source": [
    "- create smart features out of stock data - leading, lagging, averages, spans, etc."
   ]
  },
  {
   "cell_type": "markdown",
   "id": "3a4bc1ad",
   "metadata": {},
   "source": [
    "NLTK tutorial notes\n",
    "- nltk.pos_tag(tokens) -> adds part of speech tags to each token\n",
    "- "
   ]
  },
  {
   "cell_type": "markdown",
   "id": "17efb523",
   "metadata": {},
   "source": [
    "START THIS NTBK with sentiment analysis and add to master_df guy"
   ]
  },
  {
   "cell_type": "markdown",
   "id": "7af9a29c",
   "metadata": {},
   "source": [
    "# EDA and Feature Engineering"
   ]
  },
  {
   "cell_type": "markdown",
   "id": "2bbd215f",
   "metadata": {},
   "source": [
    "# Predicting Stock Market Performance Based on Speeches by The Fed"
   ]
  },
  {
   "cell_type": "markdown",
   "id": "c75b24fa",
   "metadata": {},
   "source": [
    "## Table of Contents"
   ]
  },
  {
   "cell_type": "markdown",
   "id": "bdc860f4",
   "metadata": {},
   "source": [
    "1. Import Packages, Modules, Data\n",
    "2. Text Sentiment Analysis"
   ]
  },
  {
   "cell_type": "code",
   "execution_count": 1,
   "id": "9c1ab045",
   "metadata": {},
   "outputs": [],
   "source": [
    "import pandas as pd\n",
    "import numpy as np\n",
    "import matplotlib.pyplot as plt\n",
    "import seaborn as sns\n",
    "from datetime import datetime"
   ]
  },
  {
   "cell_type": "code",
   "execution_count": 2,
   "id": "3b6496b7",
   "metadata": {},
   "outputs": [],
   "source": [
    "import nltk"
   ]
  },
  {
   "cell_type": "code",
   "execution_count": 3,
   "id": "94db4cfa",
   "metadata": {},
   "outputs": [],
   "source": [
    "master_df = pd.read_csv('data_intermediate/master_df.csv')\n",
    "sp_clean_df = pd.read_csv('data_intermediate/sp500_cleaned.csv')"
   ]
  },
  {
   "cell_type": "code",
   "execution_count": null,
   "id": "fde7e37f",
   "metadata": {},
   "outputs": [],
   "source": []
  },
  {
   "cell_type": "markdown",
   "id": "150e3173",
   "metadata": {},
   "source": []
  },
  {
   "cell_type": "code",
   "execution_count": null,
   "id": "850f7769",
   "metadata": {},
   "outputs": [],
   "source": []
  }
 ],
 "metadata": {
  "kernelspec": {
   "display_name": "Python 3 (ipykernel)",
   "language": "python",
   "name": "python3"
  },
  "language_info": {
   "codemirror_mode": {
    "name": "ipython",
    "version": 3
   },
   "file_extension": ".py",
   "mimetype": "text/x-python",
   "name": "python",
   "nbconvert_exporter": "python",
   "pygments_lexer": "ipython3",
   "version": "3.11.4"
  }
 },
 "nbformat": 4,
 "nbformat_minor": 5
}
