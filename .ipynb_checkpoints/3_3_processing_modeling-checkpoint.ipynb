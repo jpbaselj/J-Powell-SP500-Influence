{
 "cells": [
  {
   "cell_type": "markdown",
   "id": "08c0427f",
   "metadata": {},
   "source": [
    "note: compare different sentiment modeling like nltk VADER, nltk roBERTa"
   ]
  },
  {
   "cell_type": "markdown",
   "id": "3129ee0c",
   "metadata": {},
   "source": [
    "- Time-series modeling ish like generating lag features"
   ]
  },
  {
   "cell_type": "markdown",
   "id": "e7db4609",
   "metadata": {},
   "source": [
    "NLTK tutorial notes\n",
    "- nltk.pos_tag(tokens) -> adds part of speech tags to each token\n"
   ]
  },
  {
   "cell_type": "markdown",
   "id": "c4c27b45",
   "metadata": {},
   "source": [
    "# Feature Engineering and Modeling"
   ]
  },
  {
   "cell_type": "markdown",
   "id": "60c27bf8",
   "metadata": {},
   "source": [
    "# Predicting Stock Market Performance Based on Speeches by The Fed"
   ]
  },
  {
   "cell_type": "markdown",
   "id": "3c53c989",
   "metadata": {},
   "source": [
    "## Table of Contents"
   ]
  },
  {
   "cell_type": "markdown",
   "id": "2d707ecd",
   "metadata": {},
   "source": [
    "1. Import Packages, Modules, Data\n",
    "2. Feature Generation\n",
    "3. Model Training"
   ]
  },
  {
   "cell_type": "markdown",
   "id": "ad13c3d6",
   "metadata": {},
   "source": [
    "## 1. Import Packages, Modules, Data"
   ]
  },
  {
   "cell_type": "code",
   "execution_count": 1,
   "id": "ebfb6ae4",
   "metadata": {},
   "outputs": [],
   "source": [
    "import pandas as pd\n",
    "import numpy as np\n",
    "import matplotlib.pyplot as plt\n",
    "import seaborn as sns"
   ]
  },
  {
   "cell_type": "code",
   "execution_count": 2,
   "id": "ca9b3ecc",
   "metadata": {},
   "outputs": [],
   "source": [
    "import nltk"
   ]
  },
  {
   "cell_type": "code",
   "execution_count": null,
   "id": "2b9eb313",
   "metadata": {},
   "outputs": [],
   "source": []
  },
  {
   "cell_type": "code",
   "execution_count": 4,
   "id": "c63164d4",
   "metadata": {},
   "outputs": [],
   "source": [
    "master_df = pd.read_pickle('data_intermediate/master_df_2.pkl')\n",
    "roll_df = pd.read_pickle('data_intermediate/rolling_av_df.pkl')\n",
    "combined_df = pd.read_pickle('data_intermediate//combined_df.pkl')\n",
    "speech_date_df = pd.read_pickle('data_intermediate/speech_date_df.pkl')\n",
    "sp_clean_df = pd.read_pickle('data_intermediate/sp500_cleaned.pkl')"
   ]
  },
  {
   "cell_type": "code",
   "execution_count": null,
   "id": "26d3ffd4",
   "metadata": {},
   "outputs": [],
   "source": []
  },
  {
   "cell_type": "markdown",
   "id": "837bfa9d",
   "metadata": {},
   "source": []
  },
  {
   "cell_type": "code",
   "execution_count": null,
   "id": "944de35d",
   "metadata": {},
   "outputs": [],
   "source": []
  },
  {
   "cell_type": "code",
   "execution_count": null,
   "id": "749dfdba",
   "metadata": {},
   "outputs": [],
   "source": []
  },
  {
   "cell_type": "code",
   "execution_count": null,
   "id": "f75ed470",
   "metadata": {},
   "outputs": [],
   "source": []
  },
  {
   "cell_type": "markdown",
   "id": "5b492d0d",
   "metadata": {},
   "source": [
    "## 2. Feature engineering"
   ]
  },
  {
   "cell_type": "code",
   "execution_count": null,
   "id": "b0bae235",
   "metadata": {},
   "outputs": [],
   "source": []
  },
  {
   "cell_type": "markdown",
   "id": "5983413b",
   "metadata": {},
   "source": [
    "## 3. Model Training"
   ]
  },
  {
   "cell_type": "code",
   "execution_count": null,
   "id": "035fcc9f",
   "metadata": {},
   "outputs": [],
   "source": []
  },
  {
   "cell_type": "code",
   "execution_count": null,
   "id": "0350916d",
   "metadata": {},
   "outputs": [],
   "source": []
  },
  {
   "cell_type": "code",
   "execution_count": null,
   "id": "a2540d3f",
   "metadata": {},
   "outputs": [],
   "source": []
  },
  {
   "cell_type": "code",
   "execution_count": null,
   "id": "c5be8830",
   "metadata": {},
   "outputs": [],
   "source": []
  }
 ],
 "metadata": {
  "kernelspec": {
   "display_name": "Python 3 (ipykernel)",
   "language": "python",
   "name": "python3"
  },
  "language_info": {
   "codemirror_mode": {
    "name": "ipython",
    "version": 3
   },
   "file_extension": ".py",
   "mimetype": "text/x-python",
   "name": "python",
   "nbconvert_exporter": "python",
   "pygments_lexer": "ipython3",
   "version": "3.11.4"
  }
 },
 "nbformat": 4,
 "nbformat_minor": 5
}
