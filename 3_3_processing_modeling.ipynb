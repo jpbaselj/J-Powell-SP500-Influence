{
 "cells": [
  {
   "cell_type": "markdown",
   "id": "08c0427f",
   "metadata": {},
   "source": [
    "note: compare different sentiment modeling like nltk VADER, nltk roBERTa"
   ]
  },
  {
   "cell_type": "markdown",
   "id": "3129ee0c",
   "metadata": {},
   "source": [
    "- Time-series modeling ish like generating lag features"
   ]
  },
  {
   "cell_type": "markdown",
   "id": "fd0a51c1",
   "metadata": {},
   "source": [
    "NOTES\n",
    "- consider oversampling if unbalanced. look into python imbalanced-learn for oversampling limited data. can cause overfitting\n",
    "- create feature using one word vectorizer, tune a lil with feature importnaces etc. repeat for a few vectorizers\n",
    "    - ridge or lasso for regressions?\n",
    "    - repeat for a few model types?\n",
    "    - include sent scores, might be ignored \n",
    "- keep track of feature importances\n"
   ]
  },
  {
   "cell_type": "markdown",
   "id": "2859e920",
   "metadata": {},
   "source": [
    "# Feature Engineering and Modeling"
   ]
  },
  {
   "cell_type": "markdown",
   "id": "4be047e9",
   "metadata": {},
   "source": [
    "# Predicting Stock Market Performance Based on Speeches by The Fed"
   ]
  },
  {
   "cell_type": "markdown",
   "id": "aadd992e",
   "metadata": {},
   "source": [
    "## Table of Contents"
   ]
  },
  {
   "cell_type": "markdown",
   "id": "4b110ee7",
   "metadata": {},
   "source": [
    "1. Import Packages, Modules, Data\n",
    "2. Feature Engineering\n",
    "3. Model Training"
   ]
  },
  {
   "cell_type": "markdown",
   "id": "fffdbdf3",
   "metadata": {},
   "source": [
    "## 1. Import Packages, Modules, Data"
   ]
  },
  {
   "cell_type": "code",
   "execution_count": 1,
   "id": "59e7b49b",
   "metadata": {},
   "outputs": [],
   "source": [
    "import pandas as pd\n",
    "import numpy as np\n",
    "import matplotlib.pyplot as plt\n",
    "import seaborn as sns"
   ]
  },
  {
   "cell_type": "code",
   "execution_count": 7,
   "id": "1effec23",
   "metadata": {},
   "outputs": [],
   "source": [
    "import nltk\n",
    "from sklearn.feature_extraction.text import CountVectorizer"
   ]
  },
  {
   "cell_type": "markdown",
   "id": "8f1407f3",
   "metadata": {},
   "source": [
    "#### Read and Inspect .pkl files from notebook 3_2_EDA"
   ]
  },
  {
   "cell_type": "code",
   "execution_count": 3,
   "id": "496fdee2",
   "metadata": {},
   "outputs": [],
   "source": [
    "every_date_df = pd.read_pickle('data_intermediate/rolling_av_df.pkl')\n",
    "master_df_speech_dates = pd.read_pickle('data_intermediate/speech_date_df.pkl')\n",
    "sp_clean_df = pd.read_pickle('data_intermediate/sp500_cleaned.pkl')"
   ]
  },
  {
   "cell_type": "code",
   "execution_count": 4,
   "id": "e1bc5a3c",
   "metadata": {},
   "outputs": [
    {
     "data": {
      "text/html": [
       "<div>\n",
       "<style scoped>\n",
       "    .dataframe tbody tr th:only-of-type {\n",
       "        vertical-align: middle;\n",
       "    }\n",
       "\n",
       "    .dataframe tbody tr th {\n",
       "        vertical-align: top;\n",
       "    }\n",
       "\n",
       "    .dataframe thead th {\n",
       "        text-align: right;\n",
       "    }\n",
       "</style>\n",
       "<table border=\"1\" class=\"dataframe\">\n",
       "  <thead>\n",
       "    <tr style=\"text-align: right;\">\n",
       "      <th></th>\n",
       "      <th>txt_tokenized</th>\n",
       "      <th>vader_sent_overall</th>\n",
       "      <th>begin_sent</th>\n",
       "      <th>mid_sent</th>\n",
       "      <th>end_sent</th>\n",
       "      <th>Price</th>\n",
       "      <th>Open</th>\n",
       "      <th>High</th>\n",
       "      <th>Low</th>\n",
       "      <th>Change %</th>\n",
       "      <th>daily_span_y</th>\n",
       "      <th>Change%_7d_roll_past</th>\n",
       "      <th>daily_span_7d_roll_past</th>\n",
       "      <th>Price_roll_past</th>\n",
       "      <th>Change%_7d_roll_future</th>\n",
       "      <th>daily_span_7d_roll_future</th>\n",
       "      <th>Price_roll_future</th>\n",
       "    </tr>\n",
       "    <tr>\n",
       "      <th>Date</th>\n",
       "      <th></th>\n",
       "      <th></th>\n",
       "      <th></th>\n",
       "      <th></th>\n",
       "      <th></th>\n",
       "      <th></th>\n",
       "      <th></th>\n",
       "      <th></th>\n",
       "      <th></th>\n",
       "      <th></th>\n",
       "      <th></th>\n",
       "      <th></th>\n",
       "      <th></th>\n",
       "      <th></th>\n",
       "      <th></th>\n",
       "      <th></th>\n",
       "      <th></th>\n",
       "    </tr>\n",
       "  </thead>\n",
       "  <tbody>\n",
       "    <tr>\n",
       "      <th>2023-10-25</th>\n",
       "      <td>NaN</td>\n",
       "      <td>NaN</td>\n",
       "      <td>NaN</td>\n",
       "      <td>NaN</td>\n",
       "      <td>NaN</td>\n",
       "      <td>4201.149902</td>\n",
       "      <td>4230.040039</td>\n",
       "      <td>4230.040039</td>\n",
       "      <td>4196.250000</td>\n",
       "      <td>-1.10</td>\n",
       "      <td>33.790039</td>\n",
       "      <td>NaN</td>\n",
       "      <td>NaN</td>\n",
       "      <td>NaN</td>\n",
       "      <td>-0.571429</td>\n",
       "      <td>54.304269</td>\n",
       "      <td>4265.118652</td>\n",
       "    </tr>\n",
       "    <tr>\n",
       "      <th>2023-10-24</th>\n",
       "      <td>NaN</td>\n",
       "      <td>NaN</td>\n",
       "      <td>NaN</td>\n",
       "      <td>NaN</td>\n",
       "      <td>NaN</td>\n",
       "      <td>4247.680176</td>\n",
       "      <td>4235.790039</td>\n",
       "      <td>4259.379883</td>\n",
       "      <td>4219.430176</td>\n",
       "      <td>0.73</td>\n",
       "      <td>39.949707</td>\n",
       "      <td>NaN</td>\n",
       "      <td>NaN</td>\n",
       "      <td>NaN</td>\n",
       "      <td>-0.262857</td>\n",
       "      <td>55.328544</td>\n",
       "      <td>4289.758650</td>\n",
       "    </tr>\n",
       "  </tbody>\n",
       "</table>\n",
       "</div>"
      ],
      "text/plain": [
       "           txt_tokenized  vader_sent_overall  begin_sent  mid_sent  end_sent  \\\n",
       "Date                                                                           \n",
       "2023-10-25           NaN                 NaN         NaN       NaN       NaN   \n",
       "2023-10-24           NaN                 NaN         NaN       NaN       NaN   \n",
       "\n",
       "                  Price         Open         High          Low  Change %  \\\n",
       "Date                                                                       \n",
       "2023-10-25  4201.149902  4230.040039  4230.040039  4196.250000     -1.10   \n",
       "2023-10-24  4247.680176  4235.790039  4259.379883  4219.430176      0.73   \n",
       "\n",
       "            daily_span_y  Change%_7d_roll_past  daily_span_7d_roll_past  \\\n",
       "Date                                                                      \n",
       "2023-10-25     33.790039                   NaN                      NaN   \n",
       "2023-10-24     39.949707                   NaN                      NaN   \n",
       "\n",
       "            Price_roll_past  Change%_7d_roll_future  \\\n",
       "Date                                                  \n",
       "2023-10-25              NaN               -0.571429   \n",
       "2023-10-24              NaN               -0.262857   \n",
       "\n",
       "            daily_span_7d_roll_future  Price_roll_future  \n",
       "Date                                                      \n",
       "2023-10-25                  54.304269        4265.118652  \n",
       "2023-10-24                  55.328544        4289.758650  "
      ]
     },
     "execution_count": 4,
     "metadata": {},
     "output_type": "execute_result"
    }
   ],
   "source": [
    "every_date_df.head(2)\n"
   ]
  },
  {
   "cell_type": "code",
   "execution_count": 5,
   "id": "dda12b59",
   "metadata": {},
   "outputs": [
    {
     "data": {
      "text/html": [
       "<div>\n",
       "<style scoped>\n",
       "    .dataframe tbody tr th:only-of-type {\n",
       "        vertical-align: middle;\n",
       "    }\n",
       "\n",
       "    .dataframe tbody tr th {\n",
       "        vertical-align: top;\n",
       "    }\n",
       "\n",
       "    .dataframe thead th {\n",
       "        text-align: right;\n",
       "    }\n",
       "</style>\n",
       "<table border=\"1\" class=\"dataframe\">\n",
       "  <thead>\n",
       "    <tr style=\"text-align: right;\">\n",
       "      <th></th>\n",
       "      <th>txt_tokenized</th>\n",
       "      <th>vader_sent_overall</th>\n",
       "      <th>begin_sent</th>\n",
       "      <th>mid_sent</th>\n",
       "      <th>end_sent</th>\n",
       "      <th>Price</th>\n",
       "      <th>Open</th>\n",
       "      <th>High</th>\n",
       "      <th>Low</th>\n",
       "      <th>Change %</th>\n",
       "      <th>daily_span_y</th>\n",
       "      <th>Change%_7d_roll_past</th>\n",
       "      <th>daily_span_7d_roll_past</th>\n",
       "      <th>Price_roll_past</th>\n",
       "      <th>Change%_7d_roll_future</th>\n",
       "      <th>daily_span_7d_roll_future</th>\n",
       "      <th>Price_roll_future</th>\n",
       "      <th>sp_chg_across_speech</th>\n",
       "    </tr>\n",
       "    <tr>\n",
       "      <th>Date</th>\n",
       "      <th></th>\n",
       "      <th></th>\n",
       "      <th></th>\n",
       "      <th></th>\n",
       "      <th></th>\n",
       "      <th></th>\n",
       "      <th></th>\n",
       "      <th></th>\n",
       "      <th></th>\n",
       "      <th></th>\n",
       "      <th></th>\n",
       "      <th></th>\n",
       "      <th></th>\n",
       "      <th></th>\n",
       "      <th></th>\n",
       "      <th></th>\n",
       "      <th></th>\n",
       "      <th></th>\n",
       "    </tr>\n",
       "  </thead>\n",
       "  <tbody>\n",
       "    <tr>\n",
       "      <th>2023-10-19</th>\n",
       "      <td>[for, release, on, delivery, noon, edt, octobe...</td>\n",
       "      <td>0.9983</td>\n",
       "      <td>0.9931</td>\n",
       "      <td>0.9595</td>\n",
       "      <td>0.9104</td>\n",
       "      <td>4278.000000</td>\n",
       "      <td>4321.359863</td>\n",
       "      <td>4339.540039</td>\n",
       "      <td>4269.689941</td>\n",
       "      <td>-0.85</td>\n",
       "      <td>69.850098</td>\n",
       "      <td>NaN</td>\n",
       "      <td>NaN</td>\n",
       "      <td>NaN</td>\n",
       "      <td>-0.261429</td>\n",
       "      <td>55.150042</td>\n",
       "      <td>4341.967146</td>\n",
       "      <td>NaN</td>\n",
       "    </tr>\n",
       "    <tr>\n",
       "      <th>2023-09-28</th>\n",
       "      <td>[for, release, on, delivery, 400, pm, edt, sep...</td>\n",
       "      <td>0.9955</td>\n",
       "      <td>0.9290</td>\n",
       "      <td>0.9796</td>\n",
       "      <td>0.9895</td>\n",
       "      <td>4299.700195</td>\n",
       "      <td>4269.649902</td>\n",
       "      <td>4317.270020</td>\n",
       "      <td>4264.379883</td>\n",
       "      <td>0.59</td>\n",
       "      <td>52.890137</td>\n",
       "      <td>0.117143</td>\n",
       "      <td>58.577148</td>\n",
       "      <td>4276.575753</td>\n",
       "      <td>-0.467143</td>\n",
       "      <td>48.037040</td>\n",
       "      <td>4319.634277</td>\n",
       "      <td>43.058524</td>\n",
       "    </tr>\n",
       "  </tbody>\n",
       "</table>\n",
       "</div>"
      ],
      "text/plain": [
       "                                                txt_tokenized  \\\n",
       "Date                                                            \n",
       "2023-10-19  [for, release, on, delivery, noon, edt, octobe...   \n",
       "2023-09-28  [for, release, on, delivery, 400, pm, edt, sep...   \n",
       "\n",
       "            vader_sent_overall  begin_sent  mid_sent  end_sent        Price  \\\n",
       "Date                                                                          \n",
       "2023-10-19              0.9983      0.9931    0.9595    0.9104  4278.000000   \n",
       "2023-09-28              0.9955      0.9290    0.9796    0.9895  4299.700195   \n",
       "\n",
       "                   Open         High          Low  Change %  daily_span_y  \\\n",
       "Date                                                                        \n",
       "2023-10-19  4321.359863  4339.540039  4269.689941     -0.85     69.850098   \n",
       "2023-09-28  4269.649902  4317.270020  4264.379883      0.59     52.890137   \n",
       "\n",
       "            Change%_7d_roll_past  daily_span_7d_roll_past  Price_roll_past  \\\n",
       "Date                                                                         \n",
       "2023-10-19                   NaN                      NaN              NaN   \n",
       "2023-09-28              0.117143                58.577148      4276.575753   \n",
       "\n",
       "            Change%_7d_roll_future  daily_span_7d_roll_future  \\\n",
       "Date                                                            \n",
       "2023-10-19               -0.261429                  55.150042   \n",
       "2023-09-28               -0.467143                  48.037040   \n",
       "\n",
       "            Price_roll_future  sp_chg_across_speech  \n",
       "Date                                                 \n",
       "2023-10-19        4341.967146                   NaN  \n",
       "2023-09-28        4319.634277             43.058524  "
      ]
     },
     "execution_count": 5,
     "metadata": {},
     "output_type": "execute_result"
    }
   ],
   "source": [
    "master_df_speech_dates.head(2)"
   ]
  },
  {
   "cell_type": "code",
   "execution_count": 6,
   "id": "67749c8f",
   "metadata": {},
   "outputs": [
    {
     "data": {
      "text/html": [
       "<div>\n",
       "<style scoped>\n",
       "    .dataframe tbody tr th:only-of-type {\n",
       "        vertical-align: middle;\n",
       "    }\n",
       "\n",
       "    .dataframe tbody tr th {\n",
       "        vertical-align: top;\n",
       "    }\n",
       "\n",
       "    .dataframe thead th {\n",
       "        text-align: right;\n",
       "    }\n",
       "</style>\n",
       "<table border=\"1\" class=\"dataframe\">\n",
       "  <thead>\n",
       "    <tr style=\"text-align: right;\">\n",
       "      <th></th>\n",
       "      <th>Price</th>\n",
       "      <th>Open</th>\n",
       "      <th>High</th>\n",
       "      <th>Low</th>\n",
       "      <th>Change %</th>\n",
       "      <th>daily_span</th>\n",
       "    </tr>\n",
       "    <tr>\n",
       "      <th>Date</th>\n",
       "      <th></th>\n",
       "      <th></th>\n",
       "      <th></th>\n",
       "      <th></th>\n",
       "      <th></th>\n",
       "      <th></th>\n",
       "    </tr>\n",
       "  </thead>\n",
       "  <tbody>\n",
       "    <tr>\n",
       "      <th>2023-10-25</th>\n",
       "      <td>4201.149902</td>\n",
       "      <td>4230.040039</td>\n",
       "      <td>4230.040039</td>\n",
       "      <td>4196.250000</td>\n",
       "      <td>-1.10</td>\n",
       "      <td>33.790039</td>\n",
       "    </tr>\n",
       "    <tr>\n",
       "      <th>2023-10-24</th>\n",
       "      <td>4247.680176</td>\n",
       "      <td>4235.790039</td>\n",
       "      <td>4259.379883</td>\n",
       "      <td>4219.430176</td>\n",
       "      <td>0.73</td>\n",
       "      <td>39.949707</td>\n",
       "    </tr>\n",
       "  </tbody>\n",
       "</table>\n",
       "</div>"
      ],
      "text/plain": [
       "                  Price         Open         High          Low  Change %  \\\n",
       "Date                                                                       \n",
       "2023-10-25  4201.149902  4230.040039  4230.040039  4196.250000     -1.10   \n",
       "2023-10-24  4247.680176  4235.790039  4259.379883  4219.430176      0.73   \n",
       "\n",
       "            daily_span  \n",
       "Date                    \n",
       "2023-10-25   33.790039  \n",
       "2023-10-24   39.949707  "
      ]
     },
     "execution_count": 6,
     "metadata": {},
     "output_type": "execute_result"
    }
   ],
   "source": [
    "sp_clean_df.head(2)"
   ]
  },
  {
   "cell_type": "code",
   "execution_count": null,
   "id": "a28daf30",
   "metadata": {},
   "outputs": [],
   "source": []
  },
  {
   "cell_type": "code",
   "execution_count": null,
   "id": "58152a47",
   "metadata": {},
   "outputs": [],
   "source": []
  },
  {
   "cell_type": "markdown",
   "id": "678f72fd",
   "metadata": {},
   "source": [
    "## 2. Feature Engineering"
   ]
  },
  {
   "cell_type": "markdown",
   "id": "000b6fce",
   "metadata": {},
   "source": [
    "NLTK tutorial notes - nltk.pos_tag(tokens) -> adds part of speech tags to each token"
   ]
  },
  {
   "cell_type": "markdown",
   "id": "60321a14",
   "metadata": {},
   "source": [
    "- word2vec feature?\n",
    "- token feature?\n",
    "- Bag of words feature?\n",
    "- create dependent variable y -> did it go up in following 7 days?\n",
    "- tf-idf"
   ]
  },
  {
   "cell_type": "markdown",
   "id": "f8692564",
   "metadata": {},
   "source": [
    "#### Create dataset for modeling"
   ]
  },
  {
   "cell_type": "code",
   "execution_count": 8,
   "id": "71b8f3c8",
   "metadata": {},
   "outputs": [],
   "source": [
    "modeling_df = master_df_speech_dates.copy()"
   ]
  },
  {
   "cell_type": "code",
   "execution_count": 9,
   "id": "d2d862cf",
   "metadata": {},
   "outputs": [
    {
     "name": "stdout",
     "output_type": "stream",
     "text": [
      "<class 'pandas.core.frame.DataFrame'>\n",
      "DatetimeIndex: 26 entries, 2023-10-19 to 2020-04-09\n",
      "Data columns (total 18 columns):\n",
      " #   Column                     Non-Null Count  Dtype  \n",
      "---  ------                     --------------  -----  \n",
      " 0   txt_tokenized              26 non-null     object \n",
      " 1   vader_sent_overall         26 non-null     float64\n",
      " 2   begin_sent                 26 non-null     float64\n",
      " 3   mid_sent                   26 non-null     float64\n",
      " 4   end_sent                   26 non-null     float64\n",
      " 5   Price                      26 non-null     float32\n",
      " 6   Open                       26 non-null     float32\n",
      " 7   High                       26 non-null     float32\n",
      " 8   Low                        26 non-null     float32\n",
      " 9   Change %                   26 non-null     float32\n",
      " 10  daily_span_y               26 non-null     float32\n",
      " 11  Change%_7d_roll_past       25 non-null     float64\n",
      " 12  daily_span_7d_roll_past    25 non-null     float64\n",
      " 13  Price_roll_past            25 non-null     float64\n",
      " 14  Change%_7d_roll_future     26 non-null     float64\n",
      " 15  daily_span_7d_roll_future  26 non-null     float64\n",
      " 16  Price_roll_future          26 non-null     float64\n",
      " 17  sp_chg_across_speech       25 non-null     float64\n",
      "dtypes: float32(6), float64(11), object(1)\n",
      "memory usage: 3.2+ KB\n"
     ]
    }
   ],
   "source": [
    "modeling_df.info()"
   ]
  },
  {
   "cell_type": "code",
   "execution_count": null,
   "id": "c399e63f",
   "metadata": {},
   "outputs": [],
   "source": []
  },
  {
   "cell_type": "code",
   "execution_count": null,
   "id": "08675291",
   "metadata": {},
   "outputs": [],
   "source": []
  },
  {
   "cell_type": "code",
   "execution_count": null,
   "id": "7dfa21cf",
   "metadata": {},
   "outputs": [],
   "source": []
  },
  {
   "cell_type": "code",
   "execution_count": null,
   "id": "1452f4c0",
   "metadata": {},
   "outputs": [],
   "source": []
  },
  {
   "cell_type": "code",
   "execution_count": null,
   "id": "5a4761c7",
   "metadata": {},
   "outputs": [],
   "source": []
  },
  {
   "cell_type": "code",
   "execution_count": null,
   "id": "002b2d5e",
   "metadata": {},
   "outputs": [],
   "source": []
  },
  {
   "cell_type": "code",
   "execution_count": null,
   "id": "30fbfa6d",
   "metadata": {},
   "outputs": [],
   "source": []
  },
  {
   "cell_type": "code",
   "execution_count": null,
   "id": "d0793175",
   "metadata": {},
   "outputs": [],
   "source": [
    "#bag of words\n",
    "countvector=CountVectorizer(ngram_range=(2,2))\n"
   ]
  },
  {
   "cell_type": "code",
   "execution_count": null,
   "id": "f8dfed05",
   "metadata": {},
   "outputs": [],
   "source": []
  },
  {
   "cell_type": "code",
   "execution_count": null,
   "id": "b7374511",
   "metadata": {},
   "outputs": [],
   "source": []
  },
  {
   "cell_type": "code",
   "execution_count": null,
   "id": "9063e8bc",
   "metadata": {},
   "outputs": [],
   "source": []
  },
  {
   "cell_type": "code",
   "execution_count": null,
   "id": "a47d9450",
   "metadata": {},
   "outputs": [],
   "source": []
  },
  {
   "cell_type": "markdown",
   "id": "3c9c1916",
   "metadata": {},
   "source": [
    "## 3. Model Training"
   ]
  },
  {
   "cell_type": "code",
   "execution_count": null,
   "id": "214e85ce",
   "metadata": {},
   "outputs": [],
   "source": []
  },
  {
   "cell_type": "code",
   "execution_count": null,
   "id": "77fef9fc",
   "metadata": {},
   "outputs": [],
   "source": []
  },
  {
   "cell_type": "code",
   "execution_count": null,
   "id": "99bfe1a2",
   "metadata": {},
   "outputs": [],
   "source": []
  },
  {
   "cell_type": "code",
   "execution_count": null,
   "id": "9e4210d3",
   "metadata": {},
   "outputs": [],
   "source": []
  }
 ],
 "metadata": {
  "kernelspec": {
   "display_name": "Python 3 (ipykernel)",
   "language": "python",
   "name": "python3"
  },
  "language_info": {
   "codemirror_mode": {
    "name": "ipython",
    "version": 3
   },
   "file_extension": ".py",
   "mimetype": "text/x-python",
   "name": "python",
   "nbconvert_exporter": "python",
   "pygments_lexer": "ipython3",
   "version": "3.11.4"
  }
 },
 "nbformat": 4,
 "nbformat_minor": 5
}
