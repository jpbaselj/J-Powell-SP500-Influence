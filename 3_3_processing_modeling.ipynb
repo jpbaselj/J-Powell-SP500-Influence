{
 "cells": [
  {
   "cell_type": "markdown",
   "id": "2859e920",
   "metadata": {},
   "source": [
    "# ntbk 3 - Feature Engineering and Modeling"
   ]
  },
  {
   "cell_type": "markdown",
   "id": "4be047e9",
   "metadata": {},
   "source": [
    "# Predicting Stock Market Performance Based on Speeches by The Fed"
   ]
  },
  {
   "cell_type": "markdown",
   "id": "aadd992e",
   "metadata": {},
   "source": [
    "## Table of Contents"
   ]
  },
  {
   "cell_type": "markdown",
   "id": "4b110ee7",
   "metadata": {},
   "source": [
    "1. Import Packages, Modules, Data\n",
    "2. Feature Engineering\n",
    "3. Model Type Comparison\n",
    "4. Model Selection and Tuning\n",
    "5. Model Application\n",
    "6. Modeling Scenario\n",
    "7. Notebook Summary"
   ]
  },
  {
   "cell_type": "markdown",
   "id": "fffdbdf3",
   "metadata": {},
   "source": [
    "## 1. Import Packages, Modules, Data"
   ]
  },
  {
   "cell_type": "code",
   "execution_count": 1,
   "id": "59e7b49b",
   "metadata": {},
   "outputs": [],
   "source": [
    "import pandas as pd\n",
    "import numpy as np\n",
    "import matplotlib.pyplot as plt\n",
    "import seaborn as sns"
   ]
  },
  {
   "cell_type": "code",
   "execution_count": 2,
   "id": "89ee036b",
   "metadata": {},
   "outputs": [],
   "source": [
    "#!pip3 install imblearn"
   ]
  },
  {
   "cell_type": "code",
   "execution_count": 3,
   "id": "1effec23",
   "metadata": {},
   "outputs": [],
   "source": [
    "import nltk\n",
    "from imblearn.over_sampling import RandomOverSampler\n",
    "from scipy.stats import uniform, randint\n",
    "import warnings\n",
    "import random"
   ]
  },
  {
   "cell_type": "code",
   "execution_count": 4,
   "id": "b8bb2fac",
   "metadata": {},
   "outputs": [],
   "source": [
    "from sklearn.model_selection import train_test_split, cross_val_score, KFold, GridSearchCV, RandomizedSearchCV\n",
    "from sklearn.linear_model import LogisticRegression\n",
    "from sklearn.ensemble import RandomForestClassifier\n",
    "from sklearn.svm import SVC\n",
    "from sklearn.metrics import accuracy_score, precision_score, recall_score, f1_score, roc_auc_score, classification_report, confusion_matrix\n",
    "from sklearn.preprocessing import StandardScaler\n",
    "from sklearn.feature_extraction.text import TfidfVectorizer, CountVectorizer"
   ]
  },
  {
   "cell_type": "code",
   "execution_count": null,
   "id": "8f947dcc",
   "metadata": {},
   "outputs": [],
   "source": []
  },
  {
   "cell_type": "markdown",
   "id": "8f1407f3",
   "metadata": {},
   "source": [
    "#### Read and Inspect .pkl files from notebook 3_2_EDA"
   ]
  },
  {
   "cell_type": "code",
   "execution_count": 5,
   "id": "496fdee2",
   "metadata": {},
   "outputs": [],
   "source": [
    "every_date_df = pd.read_pickle('data_intermediate/rolling_av_df.pkl')\n",
    "master_df_speech_dates = pd.read_pickle('data_intermediate/speech_date_df.pkl')\n",
    "sp_clean_df = pd.read_pickle('data_intermediate/sp500_cleaned.pkl')"
   ]
  },
  {
   "cell_type": "code",
   "execution_count": 6,
   "id": "e1bc5a3c",
   "metadata": {},
   "outputs": [
    {
     "data": {
      "text/html": [
       "<div>\n",
       "<style scoped>\n",
       "    .dataframe tbody tr th:only-of-type {\n",
       "        vertical-align: middle;\n",
       "    }\n",
       "\n",
       "    .dataframe tbody tr th {\n",
       "        vertical-align: top;\n",
       "    }\n",
       "\n",
       "    .dataframe thead th {\n",
       "        text-align: right;\n",
       "    }\n",
       "</style>\n",
       "<table border=\"1\" class=\"dataframe\">\n",
       "  <thead>\n",
       "    <tr style=\"text-align: right;\">\n",
       "      <th></th>\n",
       "      <th>txt_tokenized</th>\n",
       "      <th>vader_sent_overall</th>\n",
       "      <th>begin_sent</th>\n",
       "      <th>mid_sent</th>\n",
       "      <th>end_sent</th>\n",
       "      <th>Price</th>\n",
       "      <th>Open</th>\n",
       "      <th>High</th>\n",
       "      <th>Low</th>\n",
       "      <th>Change %</th>\n",
       "      <th>daily_span_y</th>\n",
       "      <th>Change%_7d_roll_past</th>\n",
       "      <th>daily_span_7d_roll_past</th>\n",
       "      <th>Price_roll_past</th>\n",
       "      <th>Change%_7d_roll_future</th>\n",
       "      <th>daily_span_7d_roll_future</th>\n",
       "      <th>Price_roll_future</th>\n",
       "    </tr>\n",
       "    <tr>\n",
       "      <th>Date</th>\n",
       "      <th></th>\n",
       "      <th></th>\n",
       "      <th></th>\n",
       "      <th></th>\n",
       "      <th></th>\n",
       "      <th></th>\n",
       "      <th></th>\n",
       "      <th></th>\n",
       "      <th></th>\n",
       "      <th></th>\n",
       "      <th></th>\n",
       "      <th></th>\n",
       "      <th></th>\n",
       "      <th></th>\n",
       "      <th></th>\n",
       "      <th></th>\n",
       "      <th></th>\n",
       "    </tr>\n",
       "  </thead>\n",
       "  <tbody>\n",
       "    <tr>\n",
       "      <th>2023-10-25</th>\n",
       "      <td>NaN</td>\n",
       "      <td>NaN</td>\n",
       "      <td>NaN</td>\n",
       "      <td>NaN</td>\n",
       "      <td>NaN</td>\n",
       "      <td>4201.149902</td>\n",
       "      <td>4230.040039</td>\n",
       "      <td>4230.040039</td>\n",
       "      <td>4196.250000</td>\n",
       "      <td>-1.10</td>\n",
       "      <td>33.790039</td>\n",
       "      <td>NaN</td>\n",
       "      <td>NaN</td>\n",
       "      <td>NaN</td>\n",
       "      <td>-0.571429</td>\n",
       "      <td>54.304269</td>\n",
       "      <td>4265.118652</td>\n",
       "    </tr>\n",
       "    <tr>\n",
       "      <th>2023-10-24</th>\n",
       "      <td>NaN</td>\n",
       "      <td>NaN</td>\n",
       "      <td>NaN</td>\n",
       "      <td>NaN</td>\n",
       "      <td>NaN</td>\n",
       "      <td>4247.680176</td>\n",
       "      <td>4235.790039</td>\n",
       "      <td>4259.379883</td>\n",
       "      <td>4219.430176</td>\n",
       "      <td>0.73</td>\n",
       "      <td>39.949707</td>\n",
       "      <td>NaN</td>\n",
       "      <td>NaN</td>\n",
       "      <td>NaN</td>\n",
       "      <td>-0.262857</td>\n",
       "      <td>55.328544</td>\n",
       "      <td>4289.758650</td>\n",
       "    </tr>\n",
       "  </tbody>\n",
       "</table>\n",
       "</div>"
      ],
      "text/plain": [
       "           txt_tokenized  vader_sent_overall  begin_sent  mid_sent  end_sent  \\\n",
       "Date                                                                           \n",
       "2023-10-25           NaN                 NaN         NaN       NaN       NaN   \n",
       "2023-10-24           NaN                 NaN         NaN       NaN       NaN   \n",
       "\n",
       "                  Price         Open         High          Low  Change %  \\\n",
       "Date                                                                       \n",
       "2023-10-25  4201.149902  4230.040039  4230.040039  4196.250000     -1.10   \n",
       "2023-10-24  4247.680176  4235.790039  4259.379883  4219.430176      0.73   \n",
       "\n",
       "            daily_span_y  Change%_7d_roll_past  daily_span_7d_roll_past  \\\n",
       "Date                                                                      \n",
       "2023-10-25     33.790039                   NaN                      NaN   \n",
       "2023-10-24     39.949707                   NaN                      NaN   \n",
       "\n",
       "            Price_roll_past  Change%_7d_roll_future  \\\n",
       "Date                                                  \n",
       "2023-10-25              NaN               -0.571429   \n",
       "2023-10-24              NaN               -0.262857   \n",
       "\n",
       "            daily_span_7d_roll_future  Price_roll_future  \n",
       "Date                                                      \n",
       "2023-10-25                  54.304269        4265.118652  \n",
       "2023-10-24                  55.328544        4289.758650  "
      ]
     },
     "execution_count": 6,
     "metadata": {},
     "output_type": "execute_result"
    }
   ],
   "source": [
    "every_date_df.head(2)"
   ]
  },
  {
   "cell_type": "code",
   "execution_count": 7,
   "id": "dda12b59",
   "metadata": {},
   "outputs": [
    {
     "data": {
      "text/html": [
       "<div>\n",
       "<style scoped>\n",
       "    .dataframe tbody tr th:only-of-type {\n",
       "        vertical-align: middle;\n",
       "    }\n",
       "\n",
       "    .dataframe tbody tr th {\n",
       "        vertical-align: top;\n",
       "    }\n",
       "\n",
       "    .dataframe thead th {\n",
       "        text-align: right;\n",
       "    }\n",
       "</style>\n",
       "<table border=\"1\" class=\"dataframe\">\n",
       "  <thead>\n",
       "    <tr style=\"text-align: right;\">\n",
       "      <th></th>\n",
       "      <th>txt_tokenized</th>\n",
       "      <th>vader_sent_overall</th>\n",
       "      <th>begin_sent</th>\n",
       "      <th>mid_sent</th>\n",
       "      <th>end_sent</th>\n",
       "      <th>Price</th>\n",
       "      <th>Open</th>\n",
       "      <th>High</th>\n",
       "      <th>Low</th>\n",
       "      <th>Change %</th>\n",
       "      <th>daily_span_y</th>\n",
       "      <th>Change%_7d_roll_past</th>\n",
       "      <th>daily_span_7d_roll_past</th>\n",
       "      <th>Price_roll_past</th>\n",
       "      <th>Change%_7d_roll_future</th>\n",
       "      <th>daily_span_7d_roll_future</th>\n",
       "      <th>Price_roll_future</th>\n",
       "      <th>sp_chg_across_speech</th>\n",
       "    </tr>\n",
       "    <tr>\n",
       "      <th>Date</th>\n",
       "      <th></th>\n",
       "      <th></th>\n",
       "      <th></th>\n",
       "      <th></th>\n",
       "      <th></th>\n",
       "      <th></th>\n",
       "      <th></th>\n",
       "      <th></th>\n",
       "      <th></th>\n",
       "      <th></th>\n",
       "      <th></th>\n",
       "      <th></th>\n",
       "      <th></th>\n",
       "      <th></th>\n",
       "      <th></th>\n",
       "      <th></th>\n",
       "      <th></th>\n",
       "      <th></th>\n",
       "    </tr>\n",
       "  </thead>\n",
       "  <tbody>\n",
       "    <tr>\n",
       "      <th>2023-10-19</th>\n",
       "      <td>[for, release, on, delivery, noon, edt, octobe...</td>\n",
       "      <td>0.9983</td>\n",
       "      <td>0.9931</td>\n",
       "      <td>0.9595</td>\n",
       "      <td>0.9104</td>\n",
       "      <td>4278.000000</td>\n",
       "      <td>4321.359863</td>\n",
       "      <td>4339.540039</td>\n",
       "      <td>4269.689941</td>\n",
       "      <td>-0.85</td>\n",
       "      <td>69.850098</td>\n",
       "      <td>NaN</td>\n",
       "      <td>NaN</td>\n",
       "      <td>NaN</td>\n",
       "      <td>-0.261429</td>\n",
       "      <td>55.150042</td>\n",
       "      <td>4341.967146</td>\n",
       "      <td>NaN</td>\n",
       "    </tr>\n",
       "    <tr>\n",
       "      <th>2023-09-28</th>\n",
       "      <td>[for, release, on, delivery, 400, pm, edt, sep...</td>\n",
       "      <td>0.9955</td>\n",
       "      <td>0.9290</td>\n",
       "      <td>0.9796</td>\n",
       "      <td>0.9895</td>\n",
       "      <td>4299.700195</td>\n",
       "      <td>4269.649902</td>\n",
       "      <td>4317.270020</td>\n",
       "      <td>4264.379883</td>\n",
       "      <td>0.59</td>\n",
       "      <td>52.890137</td>\n",
       "      <td>0.117143</td>\n",
       "      <td>58.577148</td>\n",
       "      <td>4276.575753</td>\n",
       "      <td>-0.467143</td>\n",
       "      <td>48.037040</td>\n",
       "      <td>4319.634277</td>\n",
       "      <td>43.058524</td>\n",
       "    </tr>\n",
       "  </tbody>\n",
       "</table>\n",
       "</div>"
      ],
      "text/plain": [
       "                                                txt_tokenized  \\\n",
       "Date                                                            \n",
       "2023-10-19  [for, release, on, delivery, noon, edt, octobe...   \n",
       "2023-09-28  [for, release, on, delivery, 400, pm, edt, sep...   \n",
       "\n",
       "            vader_sent_overall  begin_sent  mid_sent  end_sent        Price  \\\n",
       "Date                                                                          \n",
       "2023-10-19              0.9983      0.9931    0.9595    0.9104  4278.000000   \n",
       "2023-09-28              0.9955      0.9290    0.9796    0.9895  4299.700195   \n",
       "\n",
       "                   Open         High          Low  Change %  daily_span_y  \\\n",
       "Date                                                                        \n",
       "2023-10-19  4321.359863  4339.540039  4269.689941     -0.85     69.850098   \n",
       "2023-09-28  4269.649902  4317.270020  4264.379883      0.59     52.890137   \n",
       "\n",
       "            Change%_7d_roll_past  daily_span_7d_roll_past  Price_roll_past  \\\n",
       "Date                                                                         \n",
       "2023-10-19                   NaN                      NaN              NaN   \n",
       "2023-09-28              0.117143                58.577148      4276.575753   \n",
       "\n",
       "            Change%_7d_roll_future  daily_span_7d_roll_future  \\\n",
       "Date                                                            \n",
       "2023-10-19               -0.261429                  55.150042   \n",
       "2023-09-28               -0.467143                  48.037040   \n",
       "\n",
       "            Price_roll_future  sp_chg_across_speech  \n",
       "Date                                                 \n",
       "2023-10-19        4341.967146                   NaN  \n",
       "2023-09-28        4319.634277             43.058524  "
      ]
     },
     "execution_count": 7,
     "metadata": {},
     "output_type": "execute_result"
    }
   ],
   "source": [
    "master_df_speech_dates.head(2)"
   ]
  },
  {
   "cell_type": "code",
   "execution_count": 8,
   "id": "67749c8f",
   "metadata": {},
   "outputs": [
    {
     "data": {
      "text/html": [
       "<div>\n",
       "<style scoped>\n",
       "    .dataframe tbody tr th:only-of-type {\n",
       "        vertical-align: middle;\n",
       "    }\n",
       "\n",
       "    .dataframe tbody tr th {\n",
       "        vertical-align: top;\n",
       "    }\n",
       "\n",
       "    .dataframe thead th {\n",
       "        text-align: right;\n",
       "    }\n",
       "</style>\n",
       "<table border=\"1\" class=\"dataframe\">\n",
       "  <thead>\n",
       "    <tr style=\"text-align: right;\">\n",
       "      <th></th>\n",
       "      <th>Price</th>\n",
       "      <th>Open</th>\n",
       "      <th>High</th>\n",
       "      <th>Low</th>\n",
       "      <th>Change %</th>\n",
       "      <th>daily_span</th>\n",
       "    </tr>\n",
       "    <tr>\n",
       "      <th>Date</th>\n",
       "      <th></th>\n",
       "      <th></th>\n",
       "      <th></th>\n",
       "      <th></th>\n",
       "      <th></th>\n",
       "      <th></th>\n",
       "    </tr>\n",
       "  </thead>\n",
       "  <tbody>\n",
       "    <tr>\n",
       "      <th>2023-10-25</th>\n",
       "      <td>4201.149902</td>\n",
       "      <td>4230.040039</td>\n",
       "      <td>4230.040039</td>\n",
       "      <td>4196.250000</td>\n",
       "      <td>-1.10</td>\n",
       "      <td>33.790039</td>\n",
       "    </tr>\n",
       "    <tr>\n",
       "      <th>2023-10-24</th>\n",
       "      <td>4247.680176</td>\n",
       "      <td>4235.790039</td>\n",
       "      <td>4259.379883</td>\n",
       "      <td>4219.430176</td>\n",
       "      <td>0.73</td>\n",
       "      <td>39.949707</td>\n",
       "    </tr>\n",
       "  </tbody>\n",
       "</table>\n",
       "</div>"
      ],
      "text/plain": [
       "                  Price         Open         High          Low  Change %  \\\n",
       "Date                                                                       \n",
       "2023-10-25  4201.149902  4230.040039  4230.040039  4196.250000     -1.10   \n",
       "2023-10-24  4247.680176  4235.790039  4259.379883  4219.430176      0.73   \n",
       "\n",
       "            daily_span  \n",
       "Date                    \n",
       "2023-10-25   33.790039  \n",
       "2023-10-24   39.949707  "
      ]
     },
     "execution_count": 8,
     "metadata": {},
     "output_type": "execute_result"
    }
   ],
   "source": [
    "sp_clean_df.head(2)"
   ]
  },
  {
   "cell_type": "markdown",
   "id": "678f72fd",
   "metadata": {},
   "source": [
    "## 2. Feature Engineering"
   ]
  },
  {
   "cell_type": "markdown",
   "id": "f8692564",
   "metadata": {},
   "source": [
    "#### Create dataset for modeling\n",
    "Extract relevant columns for input to models."
   ]
  },
  {
   "cell_type": "code",
   "execution_count": 9,
   "id": "71b8f3c8",
   "metadata": {},
   "outputs": [],
   "source": [
    "model_cols=['txt_tokenized', 'vader_sent_overall', 'begin_sent', 'mid_sent', 'end_sent', \n",
    "           'Price', 'Open', 'Change%_7d_roll_past', 'daily_span_7d_roll_past',\n",
    "            'Price_roll_past', 'sp_chg_across_speech']\n",
    "modeling_df = master_df_speech_dates[model_cols].copy().dropna()\n",
    "mod_df_w_numeric_sp_chg = modeling_df.copy()  # to be used later, for numeric model eval\n"
   ]
  },
  {
   "cell_type": "code",
   "execution_count": 10,
   "id": "d2d862cf",
   "metadata": {},
   "outputs": [
    {
     "name": "stdout",
     "output_type": "stream",
     "text": [
      "<class 'pandas.core.frame.DataFrame'>\n",
      "DatetimeIndex: 25 entries, 2023-09-28 to 2020-04-09\n",
      "Data columns (total 11 columns):\n",
      " #   Column                   Non-Null Count  Dtype  \n",
      "---  ------                   --------------  -----  \n",
      " 0   txt_tokenized            25 non-null     object \n",
      " 1   vader_sent_overall       25 non-null     float64\n",
      " 2   begin_sent               25 non-null     float64\n",
      " 3   mid_sent                 25 non-null     float64\n",
      " 4   end_sent                 25 non-null     float64\n",
      " 5   Price                    25 non-null     float32\n",
      " 6   Open                     25 non-null     float32\n",
      " 7   Change%_7d_roll_past     25 non-null     float64\n",
      " 8   daily_span_7d_roll_past  25 non-null     float64\n",
      " 9   Price_roll_past          25 non-null     float64\n",
      " 10  sp_chg_across_speech     25 non-null     float64\n",
      "dtypes: float32(2), float64(8), object(1)\n",
      "memory usage: 2.1+ KB\n"
     ]
    }
   ],
   "source": [
    "modeling_df.info()"
   ]
  },
  {
   "cell_type": "markdown",
   "id": "77d4313d",
   "metadata": {},
   "source": [
    "#### Create target variable"
   ]
  },
  {
   "cell_type": "code",
   "execution_count": 11,
   "id": "c42be090",
   "metadata": {},
   "outputs": [],
   "source": [
    "modeling_df['sp_increase_bool'] = (modeling_df['sp_chg_across_speech'] > 0).astype(int)\n",
    "modeling_df = modeling_df.drop(columns='sp_chg_across_speech')"
   ]
  },
  {
   "cell_type": "code",
   "execution_count": 12,
   "id": "e7ad9f47",
   "metadata": {},
   "outputs": [
    {
     "name": "stdout",
     "output_type": "stream",
     "text": [
      "Shape:   (25, 11) \n",
      "\n",
      "<class 'pandas.core.frame.DataFrame'>\n",
      "DatetimeIndex: 25 entries, 2023-09-28 to 2020-04-09\n",
      "Data columns (total 11 columns):\n",
      " #   Column                   Non-Null Count  Dtype  \n",
      "---  ------                   --------------  -----  \n",
      " 0   txt_tokenized            25 non-null     object \n",
      " 1   vader_sent_overall       25 non-null     float64\n",
      " 2   begin_sent               25 non-null     float64\n",
      " 3   mid_sent                 25 non-null     float64\n",
      " 4   end_sent                 25 non-null     float64\n",
      " 5   Price                    25 non-null     float32\n",
      " 6   Open                     25 non-null     float32\n",
      " 7   Change%_7d_roll_past     25 non-null     float64\n",
      " 8   daily_span_7d_roll_past  25 non-null     float64\n",
      " 9   Price_roll_past          25 non-null     float64\n",
      " 10  sp_increase_bool         25 non-null     int64  \n",
      "dtypes: float32(2), float64(7), int64(1), object(1)\n",
      "memory usage: 2.1+ KB\n"
     ]
    }
   ],
   "source": [
    "print('Shape:  ', modeling_df.shape, '\\n')\n",
    "modeling_df.info()"
   ]
  },
  {
   "cell_type": "code",
   "execution_count": 13,
   "id": "1d8d8cbf",
   "metadata": {
    "scrolled": true
   },
   "outputs": [
    {
     "data": {
      "text/html": [
       "<div>\n",
       "<style scoped>\n",
       "    .dataframe tbody tr th:only-of-type {\n",
       "        vertical-align: middle;\n",
       "    }\n",
       "\n",
       "    .dataframe tbody tr th {\n",
       "        vertical-align: top;\n",
       "    }\n",
       "\n",
       "    .dataframe thead th {\n",
       "        text-align: right;\n",
       "    }\n",
       "</style>\n",
       "<table border=\"1\" class=\"dataframe\">\n",
       "  <thead>\n",
       "    <tr style=\"text-align: right;\">\n",
       "      <th></th>\n",
       "      <th>txt_tokenized</th>\n",
       "      <th>vader_sent_overall</th>\n",
       "      <th>begin_sent</th>\n",
       "      <th>mid_sent</th>\n",
       "      <th>end_sent</th>\n",
       "      <th>Price</th>\n",
       "      <th>Open</th>\n",
       "      <th>Change%_7d_roll_past</th>\n",
       "      <th>daily_span_7d_roll_past</th>\n",
       "      <th>Price_roll_past</th>\n",
       "      <th>sp_increase_bool</th>\n",
       "    </tr>\n",
       "    <tr>\n",
       "      <th>Date</th>\n",
       "      <th></th>\n",
       "      <th></th>\n",
       "      <th></th>\n",
       "      <th></th>\n",
       "      <th></th>\n",
       "      <th></th>\n",
       "      <th></th>\n",
       "      <th></th>\n",
       "      <th></th>\n",
       "      <th></th>\n",
       "      <th></th>\n",
       "    </tr>\n",
       "  </thead>\n",
       "  <tbody>\n",
       "    <tr>\n",
       "      <th>2023-09-28</th>\n",
       "      <td>[for, release, on, delivery, 400, pm, edt, sep...</td>\n",
       "      <td>0.9955</td>\n",
       "      <td>0.9290</td>\n",
       "      <td>0.9796</td>\n",
       "      <td>0.9895</td>\n",
       "      <td>4299.700195</td>\n",
       "      <td>4269.649902</td>\n",
       "      <td>0.117143</td>\n",
       "      <td>58.577148</td>\n",
       "      <td>4276.575753</td>\n",
       "      <td>1</td>\n",
       "    </tr>\n",
       "    <tr>\n",
       "      <th>2023-08-25</th>\n",
       "      <td>[for, release, on, delivery, 1005, am, edt, 80...</td>\n",
       "      <td>0.9995</td>\n",
       "      <td>0.9966</td>\n",
       "      <td>0.9977</td>\n",
       "      <td>0.9508</td>\n",
       "      <td>4405.709961</td>\n",
       "      <td>4389.379883</td>\n",
       "      <td>0.390000</td>\n",
       "      <td>38.045689</td>\n",
       "      <td>4481.682896</td>\n",
       "      <td>0</td>\n",
       "    </tr>\n",
       "  </tbody>\n",
       "</table>\n",
       "</div>"
      ],
      "text/plain": [
       "                                                txt_tokenized  \\\n",
       "Date                                                            \n",
       "2023-09-28  [for, release, on, delivery, 400, pm, edt, sep...   \n",
       "2023-08-25  [for, release, on, delivery, 1005, am, edt, 80...   \n",
       "\n",
       "            vader_sent_overall  begin_sent  mid_sent  end_sent        Price  \\\n",
       "Date                                                                          \n",
       "2023-09-28              0.9955      0.9290    0.9796    0.9895  4299.700195   \n",
       "2023-08-25              0.9995      0.9966    0.9977    0.9508  4405.709961   \n",
       "\n",
       "                   Open  Change%_7d_roll_past  daily_span_7d_roll_past  \\\n",
       "Date                                                                     \n",
       "2023-09-28  4269.649902              0.117143                58.577148   \n",
       "2023-08-25  4389.379883              0.390000                38.045689   \n",
       "\n",
       "            Price_roll_past  sp_increase_bool  \n",
       "Date                                           \n",
       "2023-09-28      4276.575753                 1  \n",
       "2023-08-25      4481.682896                 0  "
      ]
     },
     "execution_count": 13,
     "metadata": {},
     "output_type": "execute_result"
    }
   ],
   "source": [
    "modeling_df.head(2)"
   ]
  },
  {
   "cell_type": "code",
   "execution_count": null,
   "id": "bb3c2b3d",
   "metadata": {},
   "outputs": [],
   "source": []
  },
  {
   "cell_type": "code",
   "execution_count": null,
   "id": "14d74867",
   "metadata": {},
   "outputs": [],
   "source": []
  },
  {
   "cell_type": "code",
   "execution_count": null,
   "id": "98bf5daa",
   "metadata": {},
   "outputs": [],
   "source": []
  },
  {
   "cell_type": "markdown",
   "id": "e39951dc",
   "metadata": {},
   "source": [
    "#### Create TF-IDF df\n",
    "- Apply StandardScaler() to numeric columns"
   ]
  },
  {
   "cell_type": "code",
   "execution_count": 14,
   "id": "20f22d06",
   "metadata": {},
   "outputs": [
    {
     "name": "stderr",
     "output_type": "stream",
     "text": [
      "/Users/johnbaselj/miniconda3/lib/python3.11/site-packages/sklearn/utils/validation.py:767: FutureWarning: is_sparse is deprecated and will be removed in a future version. Check `isinstance(dtype, pd.SparseDtype)` instead.\n",
      "  if not hasattr(array, \"sparse\") and array.dtypes.apply(is_sparse).any():\n",
      "/Users/johnbaselj/miniconda3/lib/python3.11/site-packages/sklearn/utils/validation.py:605: FutureWarning: is_sparse is deprecated and will be removed in a future version. Check `isinstance(dtype, pd.SparseDtype)` instead.\n",
      "  if is_sparse(pd_dtype):\n",
      "/Users/johnbaselj/miniconda3/lib/python3.11/site-packages/sklearn/utils/validation.py:614: FutureWarning: is_sparse is deprecated and will be removed in a future version. Check `isinstance(dtype, pd.SparseDtype)` instead.\n",
      "  if is_sparse(pd_dtype) or not is_extension_array_dtype(pd_dtype):\n",
      "/Users/johnbaselj/miniconda3/lib/python3.11/site-packages/sklearn/utils/validation.py:767: FutureWarning: is_sparse is deprecated and will be removed in a future version. Check `isinstance(dtype, pd.SparseDtype)` instead.\n",
      "  if not hasattr(array, \"sparse\") and array.dtypes.apply(is_sparse).any():\n",
      "/Users/johnbaselj/miniconda3/lib/python3.11/site-packages/sklearn/utils/validation.py:605: FutureWarning: is_sparse is deprecated and will be removed in a future version. Check `isinstance(dtype, pd.SparseDtype)` instead.\n",
      "  if is_sparse(pd_dtype):\n",
      "/Users/johnbaselj/miniconda3/lib/python3.11/site-packages/sklearn/utils/validation.py:614: FutureWarning: is_sparse is deprecated and will be removed in a future version. Check `isinstance(dtype, pd.SparseDtype)` instead.\n",
      "  if is_sparse(pd_dtype) or not is_extension_array_dtype(pd_dtype):\n"
     ]
    }
   ],
   "source": [
    "tfidf_vectorizer = TfidfVectorizer(stop_words='english')\n",
    "\n",
    "# Fit transform 'txt_tokenized'\n",
    "tfidf_matrix = tfidf_vectorizer.fit_transform(modeling_df['txt_tokenized'].apply(lambda x: ' '.join(x)))\n",
    "# Create df from TF-IDF matrix\n",
    "tfidf_df = pd.DataFrame(tfidf_matrix.toarray(), columns=tfidf_vectorizer.get_feature_names_out())\n",
    "\n",
    "\n",
    "#Apply Scaler to numeric df\n",
    "scaler = StandardScaler()\n",
    "df_mod_numeric = modeling_df.drop(columns='txt_tokenized')\n",
    "scaled_data = scaler.fit_transform(df_mod_numeric)\n",
    "\n",
    "\n",
    "# Convert scaled data back to df\n",
    "scaled_df = pd.DataFrame(scaled_data, columns=df_mod_numeric.columns)\n",
    "\n",
    "# Concatenate scaled numeric features with TF-IDF features horizontally\n",
    "modeling_tfidf = pd.concat([scaled_df, tfidf_df], axis=1)\n",
    "modeling_tfidf['sp_increase_bool'] = (modeling_tfidf['sp_increase_bool']> 0).astype(int)\n",
    "\n",
    "#set aside validation_df for later, and remove 5 entries for model trianing\n",
    "validation_tfidf = modeling_tfidf.copy()\n",
    "modeling_tfidf = modeling_tfidf.iloc[0:20]"
   ]
  },
  {
   "cell_type": "code",
   "execution_count": 15,
   "id": "513bb96d",
   "metadata": {
    "scrolled": true
   },
   "outputs": [
    {
     "name": "stdout",
     "output_type": "stream",
     "text": [
      "modeling_tfidf \n",
      "   Shape: (20, 5268) \n",
      "   Head:\n"
     ]
    },
    {
     "data": {
      "text/html": [
       "<div>\n",
       "<style scoped>\n",
       "    .dataframe tbody tr th:only-of-type {\n",
       "        vertical-align: middle;\n",
       "    }\n",
       "\n",
       "    .dataframe tbody tr th {\n",
       "        vertical-align: top;\n",
       "    }\n",
       "\n",
       "    .dataframe thead th {\n",
       "        text-align: right;\n",
       "    }\n",
       "</style>\n",
       "<table border=\"1\" class=\"dataframe\">\n",
       "  <thead>\n",
       "    <tr style=\"text-align: right;\">\n",
       "      <th></th>\n",
       "      <th>vader_sent_overall</th>\n",
       "      <th>begin_sent</th>\n",
       "      <th>mid_sent</th>\n",
       "      <th>end_sent</th>\n",
       "      <th>Price</th>\n",
       "      <th>Open</th>\n",
       "      <th>Change%_7d_roll_past</th>\n",
       "      <th>daily_span_7d_roll_past</th>\n",
       "      <th>Price_roll_past</th>\n",
       "      <th>sp_increase_bool</th>\n",
       "      <th>...</th>\n",
       "      <th>youngstown</th>\n",
       "      <th>youth</th>\n",
       "      <th>ystem</th>\n",
       "      <th>zabek</th>\n",
       "      <th>zealand</th>\n",
       "      <th>zeigler</th>\n",
       "      <th>zero</th>\n",
       "      <th>zhang</th>\n",
       "      <th>zones</th>\n",
       "      <th>zwick</th>\n",
       "    </tr>\n",
       "  </thead>\n",
       "  <tbody>\n",
       "    <tr>\n",
       "      <th>0</th>\n",
       "      <td>0.297088</td>\n",
       "      <td>0.195730</td>\n",
       "      <td>0.552219</td>\n",
       "      <td>0.316239</td>\n",
       "      <td>0.592805</td>\n",
       "      <td>0.549757</td>\n",
       "      <td>0.005686</td>\n",
       "      <td>0.321929</td>\n",
       "      <td>0.543910</td>\n",
       "      <td>1</td>\n",
       "      <td>...</td>\n",
       "      <td>0.0</td>\n",
       "      <td>0.0</td>\n",
       "      <td>0.000000</td>\n",
       "      <td>0.0</td>\n",
       "      <td>0.0</td>\n",
       "      <td>0.000000</td>\n",
       "      <td>0.0</td>\n",
       "      <td>0.000000</td>\n",
       "      <td>0.0</td>\n",
       "      <td>0.0</td>\n",
       "    </tr>\n",
       "    <tr>\n",
       "      <th>1</th>\n",
       "      <td>0.305969</td>\n",
       "      <td>0.355351</td>\n",
       "      <td>0.580101</td>\n",
       "      <td>0.239501</td>\n",
       "      <td>0.776291</td>\n",
       "      <td>0.760332</td>\n",
       "      <td>0.759883</td>\n",
       "      <td>-0.807444</td>\n",
       "      <td>0.911157</td>\n",
       "      <td>0</td>\n",
       "      <td>...</td>\n",
       "      <td>0.0</td>\n",
       "      <td>0.0</td>\n",
       "      <td>0.000000</td>\n",
       "      <td>0.0</td>\n",
       "      <td>0.0</td>\n",
       "      <td>0.000000</td>\n",
       "      <td>0.0</td>\n",
       "      <td>0.019004</td>\n",
       "      <td>0.0</td>\n",
       "      <td>0.0</td>\n",
       "    </tr>\n",
       "    <tr>\n",
       "      <th>2</th>\n",
       "      <td>-2.912038</td>\n",
       "      <td>0.334336</td>\n",
       "      <td>-1.520605</td>\n",
       "      <td>-3.472666</td>\n",
       "      <td>0.760246</td>\n",
       "      <td>0.734935</td>\n",
       "      <td>-0.018006</td>\n",
       "      <td>-1.349649</td>\n",
       "      <td>0.808207</td>\n",
       "      <td>0</td>\n",
       "      <td>...</td>\n",
       "      <td>0.0</td>\n",
       "      <td>0.0</td>\n",
       "      <td>0.029138</td>\n",
       "      <td>0.0</td>\n",
       "      <td>0.0</td>\n",
       "      <td>0.000000</td>\n",
       "      <td>0.0</td>\n",
       "      <td>0.000000</td>\n",
       "      <td>0.0</td>\n",
       "      <td>0.0</td>\n",
       "    </tr>\n",
       "    <tr>\n",
       "      <th>3</th>\n",
       "      <td>0.303749</td>\n",
       "      <td>0.328669</td>\n",
       "      <td>0.518637</td>\n",
       "      <td>0.280745</td>\n",
       "      <td>-0.065695</td>\n",
       "      <td>-0.120464</td>\n",
       "      <td>-0.239132</td>\n",
       "      <td>-0.100056</td>\n",
       "      <td>-0.030647</td>\n",
       "      <td>0</td>\n",
       "      <td>...</td>\n",
       "      <td>0.0</td>\n",
       "      <td>0.0</td>\n",
       "      <td>0.000000</td>\n",
       "      <td>0.0</td>\n",
       "      <td>0.0</td>\n",
       "      <td>0.000000</td>\n",
       "      <td>0.0</td>\n",
       "      <td>0.000000</td>\n",
       "      <td>0.0</td>\n",
       "      <td>0.0</td>\n",
       "    </tr>\n",
       "    <tr>\n",
       "      <th>4</th>\n",
       "      <td>0.305969</td>\n",
       "      <td>0.355824</td>\n",
       "      <td>0.530191</td>\n",
       "      <td>0.330516</td>\n",
       "      <td>0.212729</td>\n",
       "      <td>0.000203</td>\n",
       "      <td>-0.235183</td>\n",
       "      <td>0.787994</td>\n",
       "      <td>0.065557</td>\n",
       "      <td>0</td>\n",
       "      <td>...</td>\n",
       "      <td>0.0</td>\n",
       "      <td>0.0</td>\n",
       "      <td>0.000000</td>\n",
       "      <td>0.0</td>\n",
       "      <td>0.0</td>\n",
       "      <td>0.030554</td>\n",
       "      <td>0.0</td>\n",
       "      <td>0.000000</td>\n",
       "      <td>0.0</td>\n",
       "      <td>0.0</td>\n",
       "    </tr>\n",
       "  </tbody>\n",
       "</table>\n",
       "<p>5 rows × 5268 columns</p>\n",
       "</div>"
      ],
      "text/plain": [
       "   vader_sent_overall  begin_sent  mid_sent  end_sent     Price      Open  \\\n",
       "0            0.297088    0.195730  0.552219  0.316239  0.592805  0.549757   \n",
       "1            0.305969    0.355351  0.580101  0.239501  0.776291  0.760332   \n",
       "2           -2.912038    0.334336 -1.520605 -3.472666  0.760246  0.734935   \n",
       "3            0.303749    0.328669  0.518637  0.280745 -0.065695 -0.120464   \n",
       "4            0.305969    0.355824  0.530191  0.330516  0.212729  0.000203   \n",
       "\n",
       "   Change%_7d_roll_past  daily_span_7d_roll_past  Price_roll_past  \\\n",
       "0              0.005686                 0.321929         0.543910   \n",
       "1              0.759883                -0.807444         0.911157   \n",
       "2             -0.018006                -1.349649         0.808207   \n",
       "3             -0.239132                -0.100056        -0.030647   \n",
       "4             -0.235183                 0.787994         0.065557   \n",
       "\n",
       "   sp_increase_bool  ...  youngstown  youth     ystem  zabek  zealand  \\\n",
       "0                 1  ...         0.0    0.0  0.000000    0.0      0.0   \n",
       "1                 0  ...         0.0    0.0  0.000000    0.0      0.0   \n",
       "2                 0  ...         0.0    0.0  0.029138    0.0      0.0   \n",
       "3                 0  ...         0.0    0.0  0.000000    0.0      0.0   \n",
       "4                 0  ...         0.0    0.0  0.000000    0.0      0.0   \n",
       "\n",
       "    zeigler  zero     zhang  zones  zwick  \n",
       "0  0.000000   0.0  0.000000    0.0    0.0  \n",
       "1  0.000000   0.0  0.019004    0.0    0.0  \n",
       "2  0.000000   0.0  0.000000    0.0    0.0  \n",
       "3  0.000000   0.0  0.000000    0.0    0.0  \n",
       "4  0.030554   0.0  0.000000    0.0    0.0  \n",
       "\n",
       "[5 rows x 5268 columns]"
      ]
     },
     "execution_count": 15,
     "metadata": {},
     "output_type": "execute_result"
    }
   ],
   "source": [
    "print(\"modeling_tfidf \\n   Shape:\", modeling_tfidf.shape, '\\n', '  Head:')\n",
    "\n",
    "modeling_tfidf.head()"
   ]
  },
  {
   "cell_type": "markdown",
   "id": "66268885",
   "metadata": {},
   "source": [
    "#### Create Bag of Words df\n",
    "- Apply StandardScaler() to numeric columns"
   ]
  },
  {
   "cell_type": "code",
   "execution_count": 16,
   "id": "d0793175",
   "metadata": {},
   "outputs": [],
   "source": [
    "count_vectorizer = CountVectorizer(stop_words='english')\n",
    "\n",
    "# Fit transform 'txt_tokenized' \n",
    "count_matrix = count_vectorizer.fit_transform(modeling_df['txt_tokenized'].apply(lambda x: ' '.join(x)))\n",
    "# create df from BoW matrix\n",
    "count_df = pd.DataFrame(count_matrix.toarray(), columns=count_vectorizer.get_feature_names_out())\n",
    "\n",
    "\n",
    "# Convert scaled data back to df\n",
    "scaled_df = pd.DataFrame(scaled_data, columns=df_mod_numeric.columns)\n",
    "\n",
    "# Concatenate scaled numeric features with TF-IDF features horizontally\n",
    "modeling_bow = pd.concat([scaled_df, count_df], axis=1)\n",
    "modeling_bow['sp_increase_bool'] = (modeling_bow['sp_increase_bool']> 0).astype(int)\n",
    "\n",
    "#set aside validation_df for later, and remove 5 entries for model trianing\n",
    "validation_df = modeling_bow.copy()\n",
    "\n",
    "validation_set = modeling_bow.sample(frac=0.20, random_state=42)\n",
    "modeling_bow = modeling_bow.drop(validation_set.index)\n"
   ]
  },
  {
   "cell_type": "code",
   "execution_count": 17,
   "id": "f8dfed05",
   "metadata": {},
   "outputs": [
    {
     "name": "stdout",
     "output_type": "stream",
     "text": [
      "modeling_bow \n",
      "   Shape: (20, 5268) \n",
      "   Head:\n"
     ]
    },
    {
     "data": {
      "text/html": [
       "<div>\n",
       "<style scoped>\n",
       "    .dataframe tbody tr th:only-of-type {\n",
       "        vertical-align: middle;\n",
       "    }\n",
       "\n",
       "    .dataframe tbody tr th {\n",
       "        vertical-align: top;\n",
       "    }\n",
       "\n",
       "    .dataframe thead th {\n",
       "        text-align: right;\n",
       "    }\n",
       "</style>\n",
       "<table border=\"1\" class=\"dataframe\">\n",
       "  <thead>\n",
       "    <tr style=\"text-align: right;\">\n",
       "      <th></th>\n",
       "      <th>vader_sent_overall</th>\n",
       "      <th>begin_sent</th>\n",
       "      <th>mid_sent</th>\n",
       "      <th>end_sent</th>\n",
       "      <th>Price</th>\n",
       "      <th>Open</th>\n",
       "      <th>Change%_7d_roll_past</th>\n",
       "      <th>daily_span_7d_roll_past</th>\n",
       "      <th>Price_roll_past</th>\n",
       "      <th>sp_increase_bool</th>\n",
       "      <th>...</th>\n",
       "      <th>youngstown</th>\n",
       "      <th>youth</th>\n",
       "      <th>ystem</th>\n",
       "      <th>zabek</th>\n",
       "      <th>zealand</th>\n",
       "      <th>zeigler</th>\n",
       "      <th>zero</th>\n",
       "      <th>zhang</th>\n",
       "      <th>zones</th>\n",
       "      <th>zwick</th>\n",
       "    </tr>\n",
       "  </thead>\n",
       "  <tbody>\n",
       "    <tr>\n",
       "      <th>1</th>\n",
       "      <td>0.305969</td>\n",
       "      <td>0.355351</td>\n",
       "      <td>0.580101</td>\n",
       "      <td>0.239501</td>\n",
       "      <td>0.776291</td>\n",
       "      <td>0.760332</td>\n",
       "      <td>0.759883</td>\n",
       "      <td>-0.807444</td>\n",
       "      <td>0.911157</td>\n",
       "      <td>0</td>\n",
       "      <td>...</td>\n",
       "      <td>0</td>\n",
       "      <td>0</td>\n",
       "      <td>0</td>\n",
       "      <td>0</td>\n",
       "      <td>0</td>\n",
       "      <td>0</td>\n",
       "      <td>0</td>\n",
       "      <td>1</td>\n",
       "      <td>0</td>\n",
       "      <td>0</td>\n",
       "    </tr>\n",
       "    <tr>\n",
       "      <th>2</th>\n",
       "      <td>-2.912038</td>\n",
       "      <td>0.334336</td>\n",
       "      <td>-1.520605</td>\n",
       "      <td>-3.472666</td>\n",
       "      <td>0.760246</td>\n",
       "      <td>0.734935</td>\n",
       "      <td>-0.018006</td>\n",
       "      <td>-1.349649</td>\n",
       "      <td>0.808207</td>\n",
       "      <td>0</td>\n",
       "      <td>...</td>\n",
       "      <td>0</td>\n",
       "      <td>0</td>\n",
       "      <td>1</td>\n",
       "      <td>0</td>\n",
       "      <td>0</td>\n",
       "      <td>0</td>\n",
       "      <td>0</td>\n",
       "      <td>0</td>\n",
       "      <td>0</td>\n",
       "      <td>0</td>\n",
       "    </tr>\n",
       "    <tr>\n",
       "      <th>3</th>\n",
       "      <td>0.303749</td>\n",
       "      <td>0.328669</td>\n",
       "      <td>0.518637</td>\n",
       "      <td>0.280745</td>\n",
       "      <td>-0.065695</td>\n",
       "      <td>-0.120464</td>\n",
       "      <td>-0.239132</td>\n",
       "      <td>-0.100056</td>\n",
       "      <td>-0.030647</td>\n",
       "      <td>0</td>\n",
       "      <td>...</td>\n",
       "      <td>0</td>\n",
       "      <td>0</td>\n",
       "      <td>0</td>\n",
       "      <td>0</td>\n",
       "      <td>0</td>\n",
       "      <td>0</td>\n",
       "      <td>0</td>\n",
       "      <td>0</td>\n",
       "      <td>0</td>\n",
       "      <td>0</td>\n",
       "    </tr>\n",
       "  </tbody>\n",
       "</table>\n",
       "<p>3 rows × 5268 columns</p>\n",
       "</div>"
      ],
      "text/plain": [
       "   vader_sent_overall  begin_sent  mid_sent  end_sent     Price      Open  \\\n",
       "1            0.305969    0.355351  0.580101  0.239501  0.776291  0.760332   \n",
       "2           -2.912038    0.334336 -1.520605 -3.472666  0.760246  0.734935   \n",
       "3            0.303749    0.328669  0.518637  0.280745 -0.065695 -0.120464   \n",
       "\n",
       "   Change%_7d_roll_past  daily_span_7d_roll_past  Price_roll_past  \\\n",
       "1              0.759883                -0.807444         0.911157   \n",
       "2             -0.018006                -1.349649         0.808207   \n",
       "3             -0.239132                -0.100056        -0.030647   \n",
       "\n",
       "   sp_increase_bool  ...  youngstown  youth  ystem  zabek  zealand  zeigler  \\\n",
       "1                 0  ...           0      0      0      0        0        0   \n",
       "2                 0  ...           0      0      1      0        0        0   \n",
       "3                 0  ...           0      0      0      0        0        0   \n",
       "\n",
       "   zero  zhang  zones  zwick  \n",
       "1     0      1      0      0  \n",
       "2     0      0      0      0  \n",
       "3     0      0      0      0  \n",
       "\n",
       "[3 rows x 5268 columns]"
      ]
     },
     "execution_count": 17,
     "metadata": {},
     "output_type": "execute_result"
    }
   ],
   "source": [
    "print(\"modeling_bow \\n   Shape:\", modeling_bow.shape, '\\n', '  Head:')\n",
    "\n",
    "modeling_bow.head(3)"
   ]
  },
  {
   "cell_type": "markdown",
   "id": "00b2be95",
   "metadata": {},
   "source": [
    "#### Oversample to create balanced classes\n",
    "Visualization of initial class balance:"
   ]
  },
  {
   "cell_type": "code",
   "execution_count": 18,
   "id": "9063e8bc",
   "metadata": {},
   "outputs": [
    {
     "data": {
      "text/plain": [
       "Text(0.5, 1.0, 'Frequency of sp_increase_bool Values')"
      ]
     },
     "execution_count": 18,
     "metadata": {},
     "output_type": "execute_result"
    },
    {
     "data": {
      "image/png": "[encoded data removed]",
      "text/plain": [
       "<Figure size 640x480 with 1 Axes>"
      ]
     },
     "metadata": {},
     "output_type": "display_data"
    }
   ],
   "source": [
    "value_counts = modeling_df['sp_increase_bool'].value_counts()\n",
    "\n",
    "plt.bar(value_counts.index, value_counts.values)\n",
    "\n",
    "plt.xlabel('sp_increase_bool')\n",
    "plt.ylabel('Frequency')\n",
    "plt.xticks([0, 1], ['0', '1'])  # Customizing x-axis labels\n",
    "plt.title('Frequency of sp_increase_bool Values')"
   ]
  },
  {
   "cell_type": "markdown",
   "id": "7d5f6e96",
   "metadata": {},
   "source": [
    "#### Create tfidf_balanced df via oversampling minority class"
   ]
  },
  {
   "cell_type": "code",
   "execution_count": 19,
   "id": "a47d9450",
   "metadata": {},
   "outputs": [
    {
     "name": "stdout",
     "output_type": "stream",
     "text": [
      "sp_increase_bool\n",
      "1    12\n",
      "0    12\n",
      "Name: count, dtype: int64\n"
     ]
    }
   ],
   "source": [
    "warnings.filterwarnings(\"ignore\")\n",
    "X = modeling_tfidf.drop(columns=['sp_increase_bool'])  # Features\n",
    "y = modeling_tfidf['sp_increase_bool']  # Target variable\n",
    "\n",
    "# Initialize\n",
    "ros = RandomOverSampler(random_state=42)\n",
    "X_resampled, y_resampled = ros.fit_resample(X, y)\n",
    "\n",
    "# Combine into new df\n",
    "tfidf_balanced = pd.concat([X_resampled, y_resampled], axis=1)\n",
    "\n",
    "print(tfidf_balanced['sp_increase_bool'].value_counts())"
   ]
  },
  {
   "cell_type": "markdown",
   "id": "76c77b46",
   "metadata": {},
   "source": [
    "#### Create bow_balanced df via oversampling minority class of modeling_bow"
   ]
  },
  {
   "cell_type": "code",
   "execution_count": 20,
   "id": "afea4727",
   "metadata": {},
   "outputs": [
    {
     "name": "stdout",
     "output_type": "stream",
     "text": [
      "sp_increase_bool\n",
      "0    13\n",
      "1    13\n",
      "Name: count, dtype: int64\n"
     ]
    }
   ],
   "source": [
    "X = modeling_bow.drop(columns=['sp_increase_bool'])  # Features\n",
    "y = modeling_bow['sp_increase_bool']  # Target variable\n",
    "\n",
    "# Initialize\n",
    "ros = RandomOverSampler(random_state=42)\n",
    "X_resampled, y_resampled = ros.fit_resample(X, y)\n",
    "\n",
    "# Combine into new df\n",
    "bow_balanced = pd.concat([X_resampled, y_resampled], axis=1)\n",
    "\n",
    "print(bow_balanced['sp_increase_bool'].value_counts())"
   ]
  },
  {
   "cell_type": "markdown",
   "id": "dda51d5a",
   "metadata": {},
   "source": [
    "#### Make X, y splits for each df"
   ]
  },
  {
   "cell_type": "code",
   "execution_count": 21,
   "id": "69d0f1a5",
   "metadata": {},
   "outputs": [],
   "source": [
    "# modeling_tfidf (original class ratios)\n",
    "X_tfidf = modeling_tfidf.drop(columns=['sp_increase_bool'])\n",
    "y_tfidf = modeling_tfidf['sp_increase_bool']"
   ]
  },
  {
   "cell_type": "code",
   "execution_count": 22,
   "id": "64f24dc6",
   "metadata": {},
   "outputs": [],
   "source": [
    "# modeling_bow (original class ratios)\n",
    "X_bow = modeling_bow.drop(columns=['sp_increase_bool'])\n",
    "y_bow = modeling_bow['sp_increase_bool']"
   ]
  },
  {
   "cell_type": "code",
   "execution_count": 23,
   "id": "5fb97295",
   "metadata": {},
   "outputs": [],
   "source": [
    "# tfidf_balanced\n",
    "X_tf_bal = tfidf_balanced.drop(columns=['sp_increase_bool'])\n",
    "y_tf_bal = tfidf_balanced['sp_increase_bool']"
   ]
  },
  {
   "cell_type": "code",
   "execution_count": 24,
   "id": "9872a9af",
   "metadata": {},
   "outputs": [],
   "source": [
    "# bow_balanced\n",
    "X_bow_bal = bow_balanced.drop(columns=['sp_increase_bool'])\n",
    "y_bow_bal = bow_balanced['sp_increase_bool']"
   ]
  },
  {
   "cell_type": "markdown",
   "id": "3c9c1916",
   "metadata": {},
   "source": [
    "## 3. Model Type Comparison"
   ]
  },
  {
   "cell_type": "markdown",
   "id": "79d21135",
   "metadata": {},
   "source": [
    "#### Define function that trains and evaluates LogReg, RF, and SVM for input X,y splits"
   ]
  },
  {
   "cell_type": "code",
   "execution_count": 25,
   "id": "138516f8",
   "metadata": {},
   "outputs": [],
   "source": [
    "def eval_model_types(X, y):\n",
    "    # split into train and test\n",
    "    X_train, X_test, y_train, y_test = train_test_split(X, y, test_size=0.3, random_state=42)\n",
    "\n",
    "    # Initialize models\n",
    "    logistic_regression = LogisticRegression()\n",
    "    random_forest = RandomForestClassifier()\n",
    "    svm = SVC()\n",
    "\n",
    "    models = [logistic_regression, random_forest, svm]\n",
    "    model_names = [\"Logistic Regression\", \"Random Forest\", \"SVM\"]\n",
    "\n",
    "    for model, model_name in zip(models, model_names):\n",
    "        print(f\"Model: {model_name}\")\n",
    "\n",
    "        if model_name == \"Logistic Regression\":\n",
    "            # hyperparam tuning\n",
    "            param_grid = {'C': [0.001, 0.01, 0.1, 1, 10]}\n",
    "            grid_search = GridSearchCV(model, param_grid, cv=5, scoring='accuracy')\n",
    "            grid_search.fit(X_train, y_train)\n",
    "            model = grid_search.best_estimator_\n",
    "\n",
    "        elif model_name == \"Random Forest\":\n",
    "            # hyperparam tuning\n",
    "            param_grid = {\n",
    "                'n_estimators': [100, 200, 300],\n",
    "                'max_depth': [10, 20, 30],\n",
    "                'min_samples_split': [2, 5, 10]\n",
    "            }\n",
    "            grid_search = GridSearchCV(model, param_grid, cv=5, scoring='accuracy')\n",
    "            grid_search.fit(X_train, y_train)\n",
    "            model = grid_search.best_estimator_\n",
    "\n",
    "        # Perform 5-fold cross-validation\n",
    "        kf = KFold(n_splits=5, shuffle=True, random_state=42)\n",
    "        cv_scores = cross_val_score(model, X_train, y_train, cv=kf, scoring='accuracy')\n",
    "\n",
    "        print(f\"Cross-Validation Scores: {cv_scores}\")\n",
    "        print(f\"Mean CV Accuracy: {cv_scores.mean()}\")\n",
    "\n",
    "        # Train and predict\n",
    "        model.fit(X_train, y_train)\n",
    "        y_pred = model.predict(X_test)\n",
    "\n",
    "        # Evaluate the model\n",
    "        accuracy = accuracy_score(y_test, y_pred)\n",
    "        f1 = f1_score(y_test, y_pred)\n",
    "\n",
    "        print(f\"Test Accuracy: {accuracy}\")\n",
    "        print(f\"Test F1-Score: {f1}\")\n",
    "        print(\"\\n\")"
   ]
  },
  {
   "cell_type": "markdown",
   "id": "435d9a4c",
   "metadata": {},
   "source": [
    "#### Apply eval_model_types() to each split tfidf natural, bow natural, tfidf balanced, bow balanced"
   ]
  },
  {
   "cell_type": "code",
   "execution_count": 26,
   "id": "d952f530",
   "metadata": {},
   "outputs": [
    {
     "name": "stdout",
     "output_type": "stream",
     "text": [
      "Model evaluation using TF-IDF vector, natural (unbalanced) classes\n",
      "\n",
      "Model: Logistic Regression\n",
      "Cross-Validation Scores: [0.66666667 1.         1.         1.         0.5       ]\n",
      "Mean CV Accuracy: 0.8333333333333333\n",
      "Test Accuracy: 0.3333333333333333\n",
      "Test F1-Score: 0.0\n",
      "\n",
      "\n",
      "Model: Random Forest\n",
      "Cross-Validation Scores: [0.66666667 1.         0.66666667 0.66666667 0.5       ]\n",
      "Mean CV Accuracy: 0.7\n",
      "Test Accuracy: 0.3333333333333333\n",
      "Test F1-Score: 0.0\n",
      "\n",
      "\n",
      "Model: SVM\n",
      "Cross-Validation Scores: [0.66666667 1.         0.66666667 0.66666667 0.5       ]\n",
      "Mean CV Accuracy: 0.7\n",
      "Test Accuracy: 0.3333333333333333\n",
      "Test F1-Score: 0.0\n",
      "\n",
      "\n"
     ]
    }
   ],
   "source": [
    "print('Model evaluation using TF-IDF vector, natural (unbalanced) classes\\n')\n",
    "eval_model_types(X_tfidf,y_tfidf)\n"
   ]
  },
  {
   "cell_type": "code",
   "execution_count": 27,
   "id": "be6f9c7b",
   "metadata": {},
   "outputs": [
    {
     "name": "stdout",
     "output_type": "stream",
     "text": [
      "Model evaluation using Bag Of Words vector, natural (unbalanced) classes\n",
      "\n",
      "Model: Logistic Regression\n",
      "Cross-Validation Scores: [0.33333333 0.66666667 0.33333333 0.66666667 1.        ]\n",
      "Mean CV Accuracy: 0.6\n",
      "Test Accuracy: 0.5\n",
      "Test F1-Score: 0.0\n",
      "\n",
      "\n",
      "Model: Random Forest\n",
      "Cross-Validation Scores: [0.33333333 0.66666667 0.33333333 0.66666667 1.        ]\n",
      "Mean CV Accuracy: 0.6\n",
      "Test Accuracy: 0.6666666666666666\n",
      "Test F1-Score: 0.5\n",
      "\n",
      "\n",
      "Model: SVM\n",
      "Cross-Validation Scores: [0.33333333 0.66666667 0.33333333 0.66666667 1.        ]\n",
      "Mean CV Accuracy: 0.6\n",
      "Test Accuracy: 0.5\n",
      "Test F1-Score: 0.0\n",
      "\n",
      "\n"
     ]
    }
   ],
   "source": [
    "print('Model evaluation using Bag Of Words vector, natural (unbalanced) classes\\n')\n",
    "eval_model_types(X_bow,y_bow)"
   ]
  },
  {
   "cell_type": "code",
   "execution_count": 28,
   "id": "5a09f134",
   "metadata": {},
   "outputs": [
    {
     "name": "stdout",
     "output_type": "stream",
     "text": [
      "Model evaluation using TF-IDF vector, balanced classes\n",
      "\n",
      "Model: Logistic Regression\n",
      "Cross-Validation Scores: [0.5        0.66666667 1.         0.66666667 0.33333333]\n",
      "Mean CV Accuracy: 0.6333333333333333\n",
      "Test Accuracy: 0.75\n",
      "Test F1-Score: 0.7499999999999999\n",
      "\n",
      "\n",
      "Model: Random Forest\n",
      "Cross-Validation Scores: [0.75       0.66666667 0.66666667 1.         0.33333333]\n",
      "Mean CV Accuracy: 0.6833333333333333\n",
      "Test Accuracy: 0.75\n",
      "Test F1-Score: 0.7499999999999999\n",
      "\n",
      "\n",
      "Model: SVM\n",
      "Cross-Validation Scores: [0.5        0.33333333 1.         0.66666667 0.33333333]\n",
      "Mean CV Accuracy: 0.5666666666666667\n",
      "Test Accuracy: 0.625\n",
      "Test F1-Score: 0.6666666666666666\n",
      "\n",
      "\n"
     ]
    }
   ],
   "source": [
    "print('Model evaluation using TF-IDF vector, balanced classes\\n')\n",
    "eval_model_types(X_tf_bal, y_tf_bal)"
   ]
  },
  {
   "cell_type": "code",
   "execution_count": 29,
   "id": "7aebee46",
   "metadata": {},
   "outputs": [
    {
     "name": "stdout",
     "output_type": "stream",
     "text": [
      "Model evaluation using Bag Of Words vector, balanced classes\n",
      "\n",
      "Model: Logistic Regression\n",
      "Cross-Validation Scores: [0.75       0.75       0.5        1.         0.66666667]\n",
      "Mean CV Accuracy: 0.7333333333333333\n",
      "Test Accuracy: 0.875\n",
      "Test F1-Score: 0.8571428571428571\n",
      "\n",
      "\n",
      "Model: Random Forest\n",
      "Cross-Validation Scores: [0.75       0.75       0.5        1.         0.66666667]\n",
      "Mean CV Accuracy: 0.7333333333333333\n",
      "Test Accuracy: 0.875\n",
      "Test F1-Score: 0.8571428571428571\n",
      "\n",
      "\n",
      "Model: SVM\n",
      "Cross-Validation Scores: [0.75       0.75       0.5        1.         0.66666667]\n",
      "Mean CV Accuracy: 0.7333333333333333\n",
      "Test Accuracy: 0.875\n",
      "Test F1-Score: 0.8571428571428571\n",
      "\n",
      "\n"
     ]
    }
   ],
   "source": [
    "print('Model evaluation using Bag Of Words vector, balanced classes\\n')\n",
    "eval_model_types(X_bow_bal,y_bow_bal)"
   ]
  },
  {
   "cell_type": "markdown",
   "id": "ec0b18e1",
   "metadata": {},
   "source": [
    "## 4. Model Tuning and Selection"
   ]
  },
  {
   "cell_type": "markdown",
   "id": "9ff3ccc6",
   "metadata": {},
   "source": [
    "In the above comparison of model types:\n",
    "- It appears that the best input data form for training a model is using Bag of Words text vectorizer, and using balanced classes for training\n",
    "- Logistic regression and Random Forest models performed the best, and they are close to equal in performance metrics.\n",
    "- To compare LogReg and RF, we will further tune each using balanced data, and see which predicts the original unbalanced dataset best\n"
   ]
  },
  {
   "cell_type": "markdown",
   "id": "48998a0b",
   "metadata": {},
   "source": [
    "### 4.1 Tune Linear Regression Model\n",
    "Revisiting Linear Regression model's hyperparameter tuning, using RandomizedSearchCV"
   ]
  },
  {
   "cell_type": "code",
   "execution_count": 30,
   "id": "5f5628b7",
   "metadata": {},
   "outputs": [],
   "source": [
    "# This code block commented out to reduce future ntbk runtime\n",
    "# Optimal Hyperparams calculated here are applied to LogReg models that follow\n",
    "\n",
    "'''\n",
    "# Define the hyperparameter grid\n",
    "param_dist = {\n",
    "    'C': uniform(loc=0, scale=4),  # Vary the regularization strength\n",
    "    'penalty': ['l1', 'l2']  # Regularization type (L1 or L2)\n",
    "}\n",
    "\n",
    "# Initialize LogReg\n",
    "logistic_regression = LogisticRegression()\n",
    "\n",
    "# create RandomizedSearchCV object\n",
    "random_search = RandomizedSearchCV(\n",
    "    logistic_regression, param_distributions=param_dist,\n",
    "    n_iter=100, cv=5, scoring='accuracy', random_state=42, n_jobs=-1\n",
    ")\n",
    "\n",
    "# Perform random search on the training data\n",
    "random_search.fit(X_bow_bal, y_bow_bal)\n",
    "\n",
    "# Get the best estimator and hyperparameters\n",
    "best_logistic_regression = random_search.best_estimator_\n",
    "best_hyperparameters = random_search.best_params_\n",
    "print(\"Best Hyperparameters:\", best_hyperparameters)\n",
    "\n",
    "# Make predictions with the optimized model\n",
    "y_pred_optimized = best_logistic_regression.predict(X_bow_bal)\n",
    "\n",
    "# eval\n",
    "accuracy_optimized = accuracy_score(y_bow_bal, y_pred_optimized)\n",
    "print(f\"Optimized Model Accuracy: {accuracy_optimized}\")\n",
    "\n",
    "''';"
   ]
  },
  {
   "cell_type": "markdown",
   "id": "36174251",
   "metadata": {},
   "source": [
    "Output of above Hyperparam tuning:\n",
    "- Best Hyperparameters: {'C': 0.734, 'penalty': 'l2'}"
   ]
  },
  {
   "cell_type": "markdown",
   "id": "110dfb2f",
   "metadata": {},
   "source": [
    "#### Instantiate LogReg model with optimized Hyperparams"
   ]
  },
  {
   "cell_type": "code",
   "execution_count": 31,
   "id": "677381ee",
   "metadata": {},
   "outputs": [],
   "source": [
    "#best_logreg = LogisticRegression(C=0.734, penalty='l2')\n",
    "best_logreg = LogisticRegression(C=0.734, penalty='l2')"
   ]
  },
  {
   "cell_type": "markdown",
   "id": "eab44ccc",
   "metadata": {},
   "source": [
    "Train on Balanced Classes, all data excluding validation set"
   ]
  },
  {
   "cell_type": "code",
   "execution_count": 32,
   "id": "c7d6a137",
   "metadata": {},
   "outputs": [
    {
     "data": {
      "text/html": [
       "<style>#sk-container-id-1 {color: black;background-color: white;}#sk-container-id-1 pre{padding: 0;}#sk-container-id-1 div.sk-toggleable {background-color: white;}#sk-container-id-1 label.sk-toggleable__label {cursor: pointer;display: block;width: 100%;margin-bottom: 0;padding: 0.3em;box-sizing: border-box;text-align: center;}#sk-container-id-1 label.sk-toggleable__label-arrow:before {content: \"▸\";float: left;margin-right: 0.25em;color: #696969;}#sk-container-id-1 label.sk-toggleable__label-arrow:hover:before {color: black;}#sk-container-id-1 div.sk-estimator:hover label.sk-toggleable__label-arrow:before {color: black;}#sk-container-id-1 div.sk-toggleable__content {max-height: 0;max-width: 0;overflow: hidden;text-align: left;background-color: #f0f8ff;}#sk-container-id-1 div.sk-toggleable__content pre {margin: 0.2em;color: black;border-radius: 0.25em;background-color: #f0f8ff;}#sk-container-id-1 input.sk-toggleable__control:checked~div.sk-toggleable__content {max-height: 200px;max-width: 100%;overflow: auto;}#sk-container-id-1 input.sk-toggleable__control:checked~label.sk-toggleable__label-arrow:before {content: \"▾\";}#sk-container-id-1 div.sk-estimator input.sk-toggleable__control:checked~label.sk-toggleable__label {background-color: #d4ebff;}#sk-container-id-1 div.sk-label input.sk-toggleable__control:checked~label.sk-toggleable__label {background-color: #d4ebff;}#sk-container-id-1 input.sk-hidden--visually {border: 0;clip: rect(1px 1px 1px 1px);clip: rect(1px, 1px, 1px, 1px);height: 1px;margin: -1px;overflow: hidden;padding: 0;position: absolute;width: 1px;}#sk-container-id-1 div.sk-estimator {font-family: monospace;background-color: #f0f8ff;border: 1px dotted black;border-radius: 0.25em;box-sizing: border-box;margin-bottom: 0.5em;}#sk-container-id-1 div.sk-estimator:hover {background-color: #d4ebff;}#sk-container-id-1 div.sk-parallel-item::after {content: \"\";width: 100%;border-bottom: 1px solid gray;flex-grow: 1;}#sk-container-id-1 div.sk-label:hover label.sk-toggleable__label {background-color: #d4ebff;}#sk-container-id-1 div.sk-serial::before {content: \"\";position: absolute;border-left: 1px solid gray;box-sizing: border-box;top: 0;bottom: 0;left: 50%;z-index: 0;}#sk-container-id-1 div.sk-serial {display: flex;flex-direction: column;align-items: center;background-color: white;padding-right: 0.2em;padding-left: 0.2em;position: relative;}#sk-container-id-1 div.sk-item {position: relative;z-index: 1;}#sk-container-id-1 div.sk-parallel {display: flex;align-items: stretch;justify-content: center;background-color: white;position: relative;}#sk-container-id-1 div.sk-item::before, #sk-container-id-1 div.sk-parallel-item::before {content: \"\";position: absolute;border-left: 1px solid gray;box-sizing: border-box;top: 0;bottom: 0;left: 50%;z-index: -1;}#sk-container-id-1 div.sk-parallel-item {display: flex;flex-direction: column;z-index: 1;position: relative;background-color: white;}#sk-container-id-1 div.sk-parallel-item:first-child::after {align-self: flex-end;width: 50%;}#sk-container-id-1 div.sk-parallel-item:last-child::after {align-self: flex-start;width: 50%;}#sk-container-id-1 div.sk-parallel-item:only-child::after {width: 0;}#sk-container-id-1 div.sk-dashed-wrapped {border: 1px dashed gray;margin: 0 0.4em 0.5em 0.4em;box-sizing: border-box;padding-bottom: 0.4em;background-color: white;}#sk-container-id-1 div.sk-label label {font-family: monospace;font-weight: bold;display: inline-block;line-height: 1.2em;}#sk-container-id-1 div.sk-label-container {text-align: center;}#sk-container-id-1 div.sk-container {/* jupyter's `normalize.less` sets `[hidden] { display: none; }` but bootstrap.min.css set `[hidden] { display: none !important; }` so we also need the `!important` here to be able to override the default hidden behavior on the sphinx rendered scikit-learn.org. See: https://github.com/scikit-learn/scikit-learn/issues/21755 */display: inline-block !important;position: relative;}#sk-container-id-1 div.sk-text-repr-fallback {display: none;}</style><div id=\"sk-container-id-1\" class=\"sk-top-container\"><div class=\"sk-text-repr-fallback\"><pre>LogisticRegression(C=0.734)</pre><b>In a Jupyter environment, please rerun this cell to show the HTML representation or trust the notebook. <br />On GitHub, the HTML representation is unable to render, please try loading this page with nbviewer.org.</b></div><div class=\"sk-container\" hidden><div class=\"sk-item\"><div class=\"sk-estimator sk-toggleable\"><input class=\"sk-toggleable__control sk-hidden--visually\" id=\"sk-estimator-id-1\" type=\"checkbox\" checked><label for=\"sk-estimator-id-1\" class=\"sk-toggleable__label sk-toggleable__label-arrow\">LogisticRegression</label><div class=\"sk-toggleable__content\"><pre>LogisticRegression(C=0.734)</pre></div></div></div></div></div>"
      ],
      "text/plain": [
       "LogisticRegression(C=0.734)"
      ]
     },
     "execution_count": 32,
     "metadata": {},
     "output_type": "execute_result"
    }
   ],
   "source": [
    "best_logreg.fit(X_bow_bal, y_bow_bal)"
   ]
  },
  {
   "cell_type": "markdown",
   "id": "bef318e3",
   "metadata": {},
   "source": [
    "#### Prepare validation data for model assessment"
   ]
  },
  {
   "cell_type": "code",
   "execution_count": 33,
   "id": "569d0f43",
   "metadata": {},
   "outputs": [],
   "source": [
    "X_val = validation_df.drop(columns=['sp_increase_bool'])\n",
    "y_val = validation_df['sp_increase_bool']"
   ]
  },
  {
   "cell_type": "markdown",
   "id": "221ccd16",
   "metadata": {},
   "source": [
    "Evaluate on Natural/Imbalanced classes"
   ]
  },
  {
   "cell_type": "code",
   "execution_count": 34,
   "id": "afec8604",
   "metadata": {},
   "outputs": [
    {
     "name": "stdout",
     "output_type": "stream",
     "text": [
      "Optimized Model Accuracy: 0.88\n",
      "              precision    recall  f1-score   support\n",
      "\n",
      "           0       0.93      0.88      0.90        16\n",
      "           1       0.80      0.89      0.84         9\n",
      "\n",
      "    accuracy                           0.88        25\n",
      "   macro avg       0.87      0.88      0.87        25\n",
      "weighted avg       0.89      0.88      0.88        25\n",
      "\n",
      "[[14  2]\n",
      " [ 1  8]]\n"
     ]
    }
   ],
   "source": [
    "y_pred = best_logreg.predict(X_val)\n",
    "\n",
    "# Evaluate the optimized model\n",
    "accuracy_optimized = accuracy_score(y_val, y_pred)\n",
    "print(f\"Optimized Model Accuracy: {accuracy_optimized}\")\n",
    "print(classification_report(y_val, y_pred))\n",
    "print(confusion_matrix(y_val, y_pred))"
   ]
  },
  {
   "cell_type": "markdown",
   "id": "eccd2508",
   "metadata": {},
   "source": [
    "##### Logistic Regression Model Accuracy: 0.88"
   ]
  },
  {
   "cell_type": "code",
   "execution_count": null,
   "id": "9d606c2c",
   "metadata": {},
   "outputs": [],
   "source": []
  },
  {
   "cell_type": "markdown",
   "id": "19b1b043",
   "metadata": {},
   "source": [
    "### 4.2 Tune Random Forest Regressor Model\n",
    "Revisiting RF model's hyperparameter tuning, using RandomizedSearchCV"
   ]
  },
  {
   "cell_type": "code",
   "execution_count": 35,
   "id": "b95b94e6",
   "metadata": {},
   "outputs": [],
   "source": [
    "# This code block commented out to reduce future ntbk runtime\n",
    "# Optimal Hyperparams calculated here are applied to RF models that follow\n",
    "\n",
    "'''\n",
    "# hyperparam grid \n",
    "param_dist = {\n",
    "    'n_estimators': randint(10, 200),  # Number of trees in the forest\n",
    "    'max_features': ['auto', 'sqrt', 'log2', None],  \n",
    "    'max_depth': randint(5, 50, 10), \n",
    "    'min_samples_split': randint(2, 20), \n",
    "    'min_samples_leaf': randint(1, 20),  \n",
    "    'bootstrap': [True, False]  # Whether bootstrap samples are used when building trees\n",
    "}\n",
    "\n",
    "# Initialize Random Forest\n",
    "random_forest = RandomForestClassifier()\n",
    "\n",
    "# Create RandomizedSearchCV object for Random Forest\n",
    "random_search_rf = RandomizedSearchCV(\n",
    "    random_forest, param_distributions=param_dist,\n",
    "    n_iter=100, cv=5, scoring='accuracy', random_state=42, n_jobs=-1\n",
    ")\n",
    "\n",
    "# Perform random search on the training data\n",
    "random_search_rf.fit(X_bow_bal, y_bow_bal)\n",
    "\n",
    "# Get the best estimator and hyperparameters for Random Forest\n",
    "best_random_forest = random_search_rf.best_estimator_\n",
    "best_hyperparameters_rf = random_search_rf.best_params_\n",
    "print(\"Best Hyperparameters for Random Forest:\", best_hyperparameters_rf)\n",
    "\n",
    "# Make predictions with the optimized Random Forest model\n",
    "y_pred_optimized_rf = best_random_forest.predict(X_bow_bal)\n",
    "\n",
    "# Evaluate the Random Forest model\n",
    "accuracy_optimized_rf = accuracy_score(y_bow_bal, y_pred_optimized_rf)\n",
    "print(f\"Optimized Random Forest Model Accuracy: {accuracy_optimized_rf}\")\n",
    "\n",
    "''';"
   ]
  },
  {
   "cell_type": "markdown",
   "id": "3cd28fa1",
   "metadata": {},
   "source": [
    "Output from above:\n",
    "- Best Hyperparameters for Random Forest: {'bootstrap': False, 'max_depth': 54, 'max_features': None, 'min_samples_leaf': 2, 'min_samples_split': 7, 'n_estimators': 63}"
   ]
  },
  {
   "cell_type": "markdown",
   "id": "689efeca",
   "metadata": {},
   "source": [
    "#### Instantiate model with optimized Hyperparams"
   ]
  },
  {
   "cell_type": "code",
   "execution_count": 36,
   "id": "8ddbb7db",
   "metadata": {},
   "outputs": [],
   "source": [
    "best_hyp_params = {'bootstrap': False, 'max_depth': 54, 'max_features': None, 'min_samples_leaf': 2, 'min_samples_split': 7, 'n_estimators': 63}\n",
    "best_rf = RandomForestClassifier(**best_hyp_params)"
   ]
  },
  {
   "cell_type": "markdown",
   "id": "49e7d8ce",
   "metadata": {},
   "source": [
    "Train on Balanced Classes, all data excluding validation set"
   ]
  },
  {
   "cell_type": "code",
   "execution_count": 37,
   "id": "893c6afb",
   "metadata": {},
   "outputs": [
    {
     "data": {
      "text/html": [
       "<style>#sk-container-id-2 {color: black;background-color: white;}#sk-container-id-2 pre{padding: 0;}#sk-container-id-2 div.sk-toggleable {background-color: white;}#sk-container-id-2 label.sk-toggleable__label {cursor: pointer;display: block;width: 100%;margin-bottom: 0;padding: 0.3em;box-sizing: border-box;text-align: center;}#sk-container-id-2 label.sk-toggleable__label-arrow:before {content: \"▸\";float: left;margin-right: 0.25em;color: #696969;}#sk-container-id-2 label.sk-toggleable__label-arrow:hover:before {color: black;}#sk-container-id-2 div.sk-estimator:hover label.sk-toggleable__label-arrow:before {color: black;}#sk-container-id-2 div.sk-toggleable__content {max-height: 0;max-width: 0;overflow: hidden;text-align: left;background-color: #f0f8ff;}#sk-container-id-2 div.sk-toggleable__content pre {margin: 0.2em;color: black;border-radius: 0.25em;background-color: #f0f8ff;}#sk-container-id-2 input.sk-toggleable__control:checked~div.sk-toggleable__content {max-height: 200px;max-width: 100%;overflow: auto;}#sk-container-id-2 input.sk-toggleable__control:checked~label.sk-toggleable__label-arrow:before {content: \"▾\";}#sk-container-id-2 div.sk-estimator input.sk-toggleable__control:checked~label.sk-toggleable__label {background-color: #d4ebff;}#sk-container-id-2 div.sk-label input.sk-toggleable__control:checked~label.sk-toggleable__label {background-color: #d4ebff;}#sk-container-id-2 input.sk-hidden--visually {border: 0;clip: rect(1px 1px 1px 1px);clip: rect(1px, 1px, 1px, 1px);height: 1px;margin: -1px;overflow: hidden;padding: 0;position: absolute;width: 1px;}#sk-container-id-2 div.sk-estimator {font-family: monospace;background-color: #f0f8ff;border: 1px dotted black;border-radius: 0.25em;box-sizing: border-box;margin-bottom: 0.5em;}#sk-container-id-2 div.sk-estimator:hover {background-color: #d4ebff;}#sk-container-id-2 div.sk-parallel-item::after {content: \"\";width: 100%;border-bottom: 1px solid gray;flex-grow: 1;}#sk-container-id-2 div.sk-label:hover label.sk-toggleable__label {background-color: #d4ebff;}#sk-container-id-2 div.sk-serial::before {content: \"\";position: absolute;border-left: 1px solid gray;box-sizing: border-box;top: 0;bottom: 0;left: 50%;z-index: 0;}#sk-container-id-2 div.sk-serial {display: flex;flex-direction: column;align-items: center;background-color: white;padding-right: 0.2em;padding-left: 0.2em;position: relative;}#sk-container-id-2 div.sk-item {position: relative;z-index: 1;}#sk-container-id-2 div.sk-parallel {display: flex;align-items: stretch;justify-content: center;background-color: white;position: relative;}#sk-container-id-2 div.sk-item::before, #sk-container-id-2 div.sk-parallel-item::before {content: \"\";position: absolute;border-left: 1px solid gray;box-sizing: border-box;top: 0;bottom: 0;left: 50%;z-index: -1;}#sk-container-id-2 div.sk-parallel-item {display: flex;flex-direction: column;z-index: 1;position: relative;background-color: white;}#sk-container-id-2 div.sk-parallel-item:first-child::after {align-self: flex-end;width: 50%;}#sk-container-id-2 div.sk-parallel-item:last-child::after {align-self: flex-start;width: 50%;}#sk-container-id-2 div.sk-parallel-item:only-child::after {width: 0;}#sk-container-id-2 div.sk-dashed-wrapped {border: 1px dashed gray;margin: 0 0.4em 0.5em 0.4em;box-sizing: border-box;padding-bottom: 0.4em;background-color: white;}#sk-container-id-2 div.sk-label label {font-family: monospace;font-weight: bold;display: inline-block;line-height: 1.2em;}#sk-container-id-2 div.sk-label-container {text-align: center;}#sk-container-id-2 div.sk-container {/* jupyter's `normalize.less` sets `[hidden] { display: none; }` but bootstrap.min.css set `[hidden] { display: none !important; }` so we also need the `!important` here to be able to override the default hidden behavior on the sphinx rendered scikit-learn.org. See: https://github.com/scikit-learn/scikit-learn/issues/21755 */display: inline-block !important;position: relative;}#sk-container-id-2 div.sk-text-repr-fallback {display: none;}</style><div id=\"sk-container-id-2\" class=\"sk-top-container\"><div class=\"sk-text-repr-fallback\"><pre>RandomForestClassifier(bootstrap=False, max_depth=54, max_features=None,\n",
       "                       min_samples_leaf=2, min_samples_split=7,\n",
       "                       n_estimators=63)</pre><b>In a Jupyter environment, please rerun this cell to show the HTML representation or trust the notebook. <br />On GitHub, the HTML representation is unable to render, please try loading this page with nbviewer.org.</b></div><div class=\"sk-container\" hidden><div class=\"sk-item\"><div class=\"sk-estimator sk-toggleable\"><input class=\"sk-toggleable__control sk-hidden--visually\" id=\"sk-estimator-id-2\" type=\"checkbox\" checked><label for=\"sk-estimator-id-2\" class=\"sk-toggleable__label sk-toggleable__label-arrow\">RandomForestClassifier</label><div class=\"sk-toggleable__content\"><pre>RandomForestClassifier(bootstrap=False, max_depth=54, max_features=None,\n",
       "                       min_samples_leaf=2, min_samples_split=7,\n",
       "                       n_estimators=63)</pre></div></div></div></div></div>"
      ],
      "text/plain": [
       "RandomForestClassifier(bootstrap=False, max_depth=54, max_features=None,\n",
       "                       min_samples_leaf=2, min_samples_split=7,\n",
       "                       n_estimators=63)"
      ]
     },
     "execution_count": 37,
     "metadata": {},
     "output_type": "execute_result"
    }
   ],
   "source": [
    "best_rf.fit(X_bow_bal, y_bow_bal)"
   ]
  },
  {
   "cell_type": "markdown",
   "id": "46f077ce",
   "metadata": {},
   "source": [
    "Evaluate on Natural/Imbalanced Classes"
   ]
  },
  {
   "cell_type": "code",
   "execution_count": 38,
   "id": "2432022b",
   "metadata": {},
   "outputs": [
    {
     "name": "stdout",
     "output_type": "stream",
     "text": [
      "Optimized Model Accuracy: 0.92\n",
      "              precision    recall  f1-score   support\n",
      "\n",
      "           0       1.00      0.88      0.93        16\n",
      "           1       0.82      1.00      0.90         9\n",
      "\n",
      "    accuracy                           0.92        25\n",
      "   macro avg       0.91      0.94      0.92        25\n",
      "weighted avg       0.93      0.92      0.92        25\n",
      "\n",
      "[[14  2]\n",
      " [ 0  9]]\n"
     ]
    }
   ],
   "source": [
    "y_pred = best_rf.predict(X_val)      #test on the unbalanced BagOfWords X\n",
    "\n",
    "# Evaluate the optimized model\n",
    "accuracy_optimized = accuracy_score(y_val, y_pred)\n",
    "print(f\"Optimized Model Accuracy: {accuracy_optimized}\")\n",
    "print(classification_report(y_val, y_pred))\n",
    "print(confusion_matrix(y_val, y_pred))"
   ]
  },
  {
   "cell_type": "markdown",
   "id": "e536a696",
   "metadata": {},
   "source": [
    "# ************************************"
   ]
  },
  {
   "cell_type": "markdown",
   "id": "7628086f",
   "metadata": {},
   "source": [
    "## Random Forest Model Accuracy: 0.92\n",
    "## Logistic Regression Model Accuracy: 0.88"
   ]
  },
  {
   "cell_type": "markdown",
   "id": "fbc2603f",
   "metadata": {},
   "source": [
    "# ************************************"
   ]
  },
  {
   "cell_type": "markdown",
   "id": "ad6898da",
   "metadata": {},
   "source": [
    "Model Evaluation will continue using the Logistic Regression Model:"
   ]
  },
  {
   "cell_type": "markdown",
   "id": "4477dea0",
   "metadata": {},
   "source": [
    "## 5. Model Evaluation"
   ]
  },
  {
   "cell_type": "code",
   "execution_count": 39,
   "id": "64bba1e0",
   "metadata": {},
   "outputs": [],
   "source": [
    "# use bag of words representations for eval\n",
    "X_test = X_val\n",
    "y_test = y_val"
   ]
  },
  {
   "cell_type": "markdown",
   "id": "314b4930",
   "metadata": {},
   "source": [
    "Model Eval Metrics"
   ]
  },
  {
   "cell_type": "code",
   "execution_count": 40,
   "id": "72d47342",
   "metadata": {},
   "outputs": [
    {
     "name": "stdout",
     "output_type": "stream",
     "text": [
      "Accuracy: 0.92\n",
      "Precision: 0.82\n",
      "Recall: 1.00\n",
      "F1-Score: 0.90\n",
      "ROC AUC: 1.00\n"
     ]
    }
   ],
   "source": [
    "y_pred = best_rf.predict(X_test)\n",
    "accuracy = accuracy_score(y_test, y_pred)\n",
    "precision = precision_score(y_test, y_pred)\n",
    "recall = recall_score(y_test, y_pred)\n",
    "f1 = f1_score(y_test, y_pred)\n",
    "roc_auc = roc_auc_score(y_test, best_rf.predict_proba(X_test)[:, 1])\n",
    "\n",
    "print(f\"Accuracy: {accuracy:.2f}\")\n",
    "print(f\"Precision: {precision:.2f}\")\n",
    "print(f\"Recall: {recall:.2f}\")\n",
    "print(f\"F1-Score: {f1:.2f}\")\n",
    "print(f\"ROC AUC: {roc_auc:.2f}\")"
   ]
  },
  {
   "cell_type": "code",
   "execution_count": 41,
   "id": "26a407f2",
   "metadata": {},
   "outputs": [
    {
     "data": {
      "image/png": "[encoded data removed]",
      "text/plain": [
       "<Figure size 640x480 with 2 Axes>"
      ]
     },
     "metadata": {},
     "output_type": "display_data"
    }
   ],
   "source": [
    "from sklearn.metrics import confusion_matrix\n",
    "import seaborn as sns\n",
    "import matplotlib.pyplot as plt\n",
    "\n",
    "cm = confusion_matrix(y_test, y_pred)\n",
    "sns.heatmap(cm, annot=True, fmt=\"d\")\n",
    "plt.xlabel(\"Predicted\")\n",
    "plt.ylabel(\"Actual\")\n",
    "plt.show()"
   ]
  },
  {
   "cell_type": "code",
   "execution_count": 42,
   "id": "9bdda30f",
   "metadata": {},
   "outputs": [
    {
     "data": {
      "image/png": "[encoded data removed]",
      "text/plain": [
       "<Figure size 1000x600 with 1 Axes>"
      ]
     },
     "metadata": {},
     "output_type": "display_data"
    }
   ],
   "source": [
    "feature_importances = best_rf.feature_importances_\n",
    "\n",
    "# Match feature importances to feature names\n",
    "feature_names = X_test.columns\n",
    "\n",
    "importance_df = pd.DataFrame({'Feature': feature_names, 'Importance': feature_importances})\n",
    "\n",
    "# Sort by importance in descending order\n",
    "importance_df = importance_df.sort_values(by='Importance', ascending=False)\n",
    "\n",
    "top_10_importance_df = importance_df.sort_values(by='Importance', ascending=False).head(8)\n",
    "\n",
    "# Create a bar plot for the top 10 feature importances\n",
    "plt.figure(figsize=(10, 6))\n",
    "sns.barplot(x='Importance', y='Feature', data=top_10_importance_df)\n",
    "plt.title('Top 10 Feature Importances in Random Forest Regressor')\n",
    "plt.xlabel('Importance')\n",
    "plt.ylabel('Feature')\n",
    "plt.show()"
   ]
  },
  {
   "cell_type": "code",
   "execution_count": 43,
   "id": "bf3b6523",
   "metadata": {},
   "outputs": [
    {
     "data": {
      "image/png": "[encoded data removed]",
      "text/plain": [
       "<Figure size 640x480 with 1 Axes>"
      ]
     },
     "metadata": {},
     "output_type": "display_data"
    }
   ],
   "source": [
    "from sklearn.metrics import roc_curve\n",
    "import matplotlib.pyplot as plt\n",
    "\n",
    "fpr, tpr, thresholds = roc_curve(y_test, best_rf.predict_proba(X_test)[:, 1])\n",
    "plt.plot(fpr, tpr)\n",
    "plt.xlabel('False Positive Rate')\n",
    "plt.ylabel('True Positive Rate')\n",
    "plt.title('ROC Curve')\n",
    "plt.show()"
   ]
  },
  {
   "cell_type": "code",
   "execution_count": 44,
   "id": "43a7b1da",
   "metadata": {
    "scrolled": false
   },
   "outputs": [
    {
     "data": {
      "image/png": "[encoded data removed]",
      "text/plain": [
       "<Figure size 640x480 with 1 Axes>"
      ]
     },
     "metadata": {},
     "output_type": "display_data"
    }
   ],
   "source": [
    "from sklearn.calibration import calibration_curve\n",
    "\n",
    "prob_true, prob_pred = calibration_curve(y_test, best_rf.predict_proba(X_test)[:, 1], n_bins=10)\n",
    "plt.plot(prob_pred, prob_true, marker='o', label='LogReg Model')\n",
    "ideal_curve = [0, 1]\n",
    "plt.plot(ideal_curve, ideal_curve, linestyle='--', label='Ideal Curve')\n",
    "plt.xlabel('Mean Predicted Probability')\n",
    "plt.ylabel('Fraction of Positives')\n",
    "plt.legend()\n",
    "plt.show()"
   ]
  },
  {
   "cell_type": "code",
   "execution_count": null,
   "id": "6611dbfe",
   "metadata": {},
   "outputs": [],
   "source": []
  },
  {
   "cell_type": "code",
   "execution_count": null,
   "id": "a96839ac",
   "metadata": {},
   "outputs": [],
   "source": []
  },
  {
   "cell_type": "markdown",
   "id": "1f81b0a5",
   "metadata": {},
   "source": [
    "#### Evaluation metrics on a CV basis "
   ]
  },
  {
   "cell_type": "markdown",
   "id": "a438b2f6",
   "metadata": {},
   "source": [
    "Because of the relatively small data set, Cross Validation modeling scores may be a more appropriate measure of model predictive power than the above eval using small validation set."
   ]
  },
  {
   "cell_type": "code",
   "execution_count": 45,
   "id": "3e0e98ec",
   "metadata": {},
   "outputs": [
    {
     "name": "stdout",
     "output_type": "stream",
     "text": [
      "CV Accuracy Scores: [0.71428571 0.66666667 0.66666667 0.83333333]\n",
      "Mean CV Accuracy: 0.7202380952380952\n"
     ]
    }
   ],
   "source": [
    "kf = KFold(n_splits=4, shuffle=True, random_state=42)\n",
    "cv_scores = cross_val_score(best_rf, X_test, y_test, cv=kf, scoring='accuracy')\n",
    "\n",
    "print(f\"CV Accuracy Scores: {cv_scores}\")\n",
    "print(f\"Mean CV Accuracy: {cv_scores.mean()}\")"
   ]
  },
  {
   "cell_type": "code",
   "execution_count": 46,
   "id": "8dd4cd80",
   "metadata": {},
   "outputs": [
    {
     "name": "stdout",
     "output_type": "stream",
     "text": [
      "CV Precision:  0.5833333333333334\n",
      "CV Recall:  0.7777777777777778\n",
      "CV F1 score:  0.6666666666666666\n"
     ]
    }
   ],
   "source": [
    "from sklearn.model_selection import cross_val_predict\n",
    "from sklearn.metrics import precision_score, recall_score, f1_score\n",
    "\n",
    "predicted = cross_val_predict(best_rf, X_test, y_test, cv=kf)\n",
    "precision = precision_score(y_test, predicted)\n",
    "recall = recall_score(y_test, predicted)\n",
    "f1 = f1_score(y_test, predicted)\n",
    "\n",
    "print('CV Precision: ', precision)\n",
    "print('CV Recall: ', recall)\n",
    "print('CV F1 score: ', f1)"
   ]
  },
  {
   "cell_type": "code",
   "execution_count": 47,
   "id": "1da2c62b",
   "metadata": {},
   "outputs": [
    {
     "name": "stdout",
     "output_type": "stream",
     "text": [
      "ROC AUC:  0.6215277777777778\n"
     ]
    }
   ],
   "source": [
    "predicted_probs = cross_val_predict(best_rf, X_test, y_test, cv=kf, method='predict_proba')\n",
    "fpr, tpr, thresholds = roc_curve(y_test, predicted_probs[:, 1])\n",
    "roc_auc = roc_auc_score(y_test, predicted_probs[:, 1])\n",
    "\n",
    "print('ROC AUC: ', roc_auc)"
   ]
  },
  {
   "cell_type": "code",
   "execution_count": 48,
   "id": "c829bcb4",
   "metadata": {
    "scrolled": true
   },
   "outputs": [
    {
     "data": {
      "image/png": "[encoded data removed]",
      "text/plain": [
       "<Figure size 800x600 with 1 Axes>"
      ]
     },
     "metadata": {},
     "output_type": "display_data"
    }
   ],
   "source": [
    "from sklearn.metrics import roc_curve, roc_auc_score\n",
    "\n",
    "# cross-val predictions and true labels\n",
    "predictions = cross_val_predict(best_rf, X_test, y_test, cv=kf, method='predict_proba')\n",
    "true_labels = y_test\n",
    "\n",
    "# Calculate the ROC curve and AUC\n",
    "fpr, tpr, thresholds = roc_curve(true_labels, predictions[:, 1])\n",
    "roc_auc = roc_auc_score(true_labels, predictions[:, 1])\n",
    "\n",
    "# Plot the ROC curve\n",
    "plt.figure(figsize=(8, 6))\n",
    "plt.plot(fpr, tpr, color='darkorange', lw=2, label=f'ROC curve (AUC = {roc_auc:.2f})')\n",
    "plt.plot([0, 1], [0, 1], color='navy', lw=2, linestyle='--')\n",
    "plt.xlabel('False Positive Rate')\n",
    "plt.ylabel('True Positive Rate')\n",
    "plt.title('Cross-Val Prediction Receiver Operating Characteristic (ROC) Curve')\n",
    "plt.legend(loc='lower right')\n",
    "plt.show()"
   ]
  },
  {
   "cell_type": "code",
   "execution_count": 49,
   "id": "5269e9b4",
   "metadata": {},
   "outputs": [
    {
     "data": {
      "image/png": "[encoded data removed]",
      "text/plain": [
       "<Figure size 800x600 with 1 Axes>"
      ]
     },
     "metadata": {},
     "output_type": "display_data"
    }
   ],
   "source": [
    "from sklearn.calibration import calibration_curve\n",
    "\n",
    "predicted_probs = cross_val_predict(best_rf, X_test, y_test, cv=kf, method='predict_proba')\n",
    "\n",
    "# Calculate the calibration curve\n",
    "prob_true, prob_pred = calibration_curve(y_test, predicted_probs[:, 1], n_bins=10, strategy='uniform')\n",
    "\n",
    "# Plot the calibration curve\n",
    "plt.figure(figsize=(8, 6))\n",
    "plt.plot(prob_pred, prob_true, marker='o', label='Random Forest Model (CV)')\n",
    "ideal_curve = [0, 1]\n",
    "plt.plot(ideal_curve, ideal_curve, linestyle='--', label='Ideal Curve')\n",
    "plt.xlabel('Mean Predicted Probability')\n",
    "plt.ylabel('Fraction of Positives')\n",
    "plt.legend()\n",
    "plt.show()"
   ]
  },
  {
   "cell_type": "code",
   "execution_count": null,
   "id": "1adf2b63",
   "metadata": {},
   "outputs": [],
   "source": []
  },
  {
   "cell_type": "code",
   "execution_count": null,
   "id": "b4acfadb",
   "metadata": {},
   "outputs": [],
   "source": []
  },
  {
   "cell_type": "code",
   "execution_count": null,
   "id": "9eb417fe",
   "metadata": {},
   "outputs": [],
   "source": []
  },
  {
   "cell_type": "markdown",
   "id": "d2e47785",
   "metadata": {},
   "source": [
    "## 6. Modeling Scenario"
   ]
  },
  {
   "cell_type": "markdown",
   "id": "efdfe2d0",
   "metadata": {},
   "source": [
    "To demonstrate the potential monetary impact of predicting the stock market with this model, we will create a set of instructions for an investor to follow in applying the model, and calculate about how much monetary benefit it could have brought if applied to the past speeches\n",
    "1. At the conclusion of a speech, use that speech's text and updated historical data as inputs to the trained model to predict whether the stock market will go up in the next week.\n",
    "2. If the market is predicted to go up:\n",
    "- make an investment by buying stock in an SP500 index fund\n",
    "- sell that stock one week later\n",
    "3. If the market is predicted to go down:\n",
    "- make an investment by buying stock in an SP500 INVERSE leveraged index fund\n",
    "- sell that stock one week later"
   ]
  },
  {
   "cell_type": "code",
   "execution_count": 50,
   "id": "f92207bb",
   "metadata": {
    "scrolled": true
   },
   "outputs": [
    {
     "data": {
      "text/html": [
       "<div>\n",
       "<style scoped>\n",
       "    .dataframe tbody tr th:only-of-type {\n",
       "        vertical-align: middle;\n",
       "    }\n",
       "\n",
       "    .dataframe tbody tr th {\n",
       "        vertical-align: top;\n",
       "    }\n",
       "\n",
       "    .dataframe thead th {\n",
       "        text-align: right;\n",
       "    }\n",
       "</style>\n",
       "<table border=\"1\" class=\"dataframe\">\n",
       "  <thead>\n",
       "    <tr style=\"text-align: right;\">\n",
       "      <th></th>\n",
       "      <th>txt_tokenized</th>\n",
       "      <th>vader_sent_overall</th>\n",
       "      <th>begin_sent</th>\n",
       "      <th>mid_sent</th>\n",
       "      <th>end_sent</th>\n",
       "      <th>Price</th>\n",
       "      <th>Open</th>\n",
       "      <th>Change%_7d_roll_past</th>\n",
       "      <th>daily_span_7d_roll_past</th>\n",
       "      <th>Price_roll_past</th>\n",
       "      <th>sp_chg_across_speech</th>\n",
       "      <th>wk_pct_chg</th>\n",
       "    </tr>\n",
       "    <tr>\n",
       "      <th>Date</th>\n",
       "      <th></th>\n",
       "      <th></th>\n",
       "      <th></th>\n",
       "      <th></th>\n",
       "      <th></th>\n",
       "      <th></th>\n",
       "      <th></th>\n",
       "      <th></th>\n",
       "      <th></th>\n",
       "      <th></th>\n",
       "      <th></th>\n",
       "      <th></th>\n",
       "    </tr>\n",
       "  </thead>\n",
       "  <tbody>\n",
       "    <tr>\n",
       "      <th>2023-09-28</th>\n",
       "      <td>[for, release, on, delivery, 400, pm, edt, sep...</td>\n",
       "      <td>0.9955</td>\n",
       "      <td>0.9290</td>\n",
       "      <td>0.9796</td>\n",
       "      <td>0.9895</td>\n",
       "      <td>4299.700195</td>\n",
       "      <td>4269.649902</td>\n",
       "      <td>0.117143</td>\n",
       "      <td>58.577148</td>\n",
       "      <td>4276.575753</td>\n",
       "      <td>43.058524</td>\n",
       "      <td>0.010068</td>\n",
       "    </tr>\n",
       "    <tr>\n",
       "      <th>2023-08-25</th>\n",
       "      <td>[for, release, on, delivery, 1005, am, edt, 80...</td>\n",
       "      <td>0.9995</td>\n",
       "      <td>0.9966</td>\n",
       "      <td>0.9977</td>\n",
       "      <td>0.9508</td>\n",
       "      <td>4405.709961</td>\n",
       "      <td>4389.379883</td>\n",
       "      <td>0.390000</td>\n",
       "      <td>38.045689</td>\n",
       "      <td>4481.682896</td>\n",
       "      <td>-89.480120</td>\n",
       "      <td>-0.019966</td>\n",
       "    </tr>\n",
       "  </tbody>\n",
       "</table>\n",
       "</div>"
      ],
      "text/plain": [
       "                                                txt_tokenized  \\\n",
       "Date                                                            \n",
       "2023-09-28  [for, release, on, delivery, 400, pm, edt, sep...   \n",
       "2023-08-25  [for, release, on, delivery, 1005, am, edt, 80...   \n",
       "\n",
       "            vader_sent_overall  begin_sent  mid_sent  end_sent        Price  \\\n",
       "Date                                                                          \n",
       "2023-09-28              0.9955      0.9290    0.9796    0.9895  4299.700195   \n",
       "2023-08-25              0.9995      0.9966    0.9977    0.9508  4405.709961   \n",
       "\n",
       "                   Open  Change%_7d_roll_past  daily_span_7d_roll_past  \\\n",
       "Date                                                                     \n",
       "2023-09-28  4269.649902              0.117143                58.577148   \n",
       "2023-08-25  4389.379883              0.390000                38.045689   \n",
       "\n",
       "            Price_roll_past  sp_chg_across_speech  wk_pct_chg  \n",
       "Date                                                           \n",
       "2023-09-28      4276.575753             43.058524    0.010068  \n",
       "2023-08-25      4481.682896            -89.480120   -0.019966  "
      ]
     },
     "execution_count": 50,
     "metadata": {},
     "output_type": "execute_result"
    }
   ],
   "source": [
    "# define variable that represents the week over week stock market change as a percentage of market value\n",
    "mod_df_w_numeric_sp_chg['wk_pct_chg'] = mod_df_w_numeric_sp_chg['sp_chg_across_speech']/mod_df_w_numeric_sp_chg['Price_roll_past']\n",
    "wk_pct_chg = mod_df_w_numeric_sp_chg['wk_pct_chg']\n",
    "\n",
    "mod_df_w_numeric_sp_chg.head(2)"
   ]
  },
  {
   "cell_type": "markdown",
   "id": "2374cb40",
   "metadata": {},
   "source": [
    "Simulate what would happen as a result of following the above instructions, repeated over time and reinvesting the previous value for each new speech. "
   ]
  },
  {
   "cell_type": "markdown",
   "id": "6cf967b4",
   "metadata": {},
   "source": [
    "Note: this simulation has a starting value of $100 invested, but will behave proportionatley for any investment"
   ]
  },
  {
   "cell_type": "code",
   "execution_count": 51,
   "id": "ef2de606",
   "metadata": {},
   "outputs": [
    {
     "data": {
      "text/plain": [
       "array([1, 0, 0, 0, 0, 1, 1, 0, 0, 0, 1, 1, 0, 1, 0, 1, 1, 1, 0, 0, 0, 1,\n",
       "       0, 1, 0])"
      ]
     },
     "execution_count": 51,
     "metadata": {},
     "output_type": "execute_result"
    }
   ],
   "source": [
    "y_pred"
   ]
  },
  {
   "cell_type": "code",
   "execution_count": 52,
   "id": "df8dfdbb",
   "metadata": {},
   "outputs": [
    {
     "data": {
      "text/plain": [
       "Date\n",
       "2023-09-28    0.010068\n",
       "2023-08-25   -0.019966\n",
       "2023-06-29   -0.012685\n",
       "2023-01-10   -0.023787\n",
       "2022-11-30   -0.002043\n",
       "Name: wk_pct_chg, dtype: float64"
      ]
     },
     "execution_count": 52,
     "metadata": {},
     "output_type": "execute_result"
    }
   ],
   "source": [
    "wk_pct_chg[0:5]"
   ]
  },
  {
   "cell_type": "code",
   "execution_count": 53,
   "id": "aa1f425b",
   "metadata": {},
   "outputs": [],
   "source": [
    "cash = 100\n",
    "value = [100]\n",
    "idx=0\n",
    "for prediction in y_pred:\n",
    "    if prediction == 1:\n",
    "        cash = cash * (1 + wk_pct_chg[idx])\n",
    "        value.append(cash)\n",
    "        idx+=1\n",
    "        \n",
    "    else:\n",
    "        cash = cash * (1 - wk_pct_chg[idx])\n",
    "        value.append(cash)\n",
    "        idx+=1"
   ]
  },
  {
   "cell_type": "code",
   "execution_count": 54,
   "id": "f565ae55",
   "metadata": {},
   "outputs": [],
   "source": [
    "random_ints = random.choices([-1, 1], weights=[0.28, 0.72], k=25)\n",
    "cash = 100\n",
    "value = [100]\n",
    "idx = 0\n",
    "\n",
    "for guess in random_ints:\n",
    "    if wk_pct_chg[idx] > 0:\n",
    "        cash = cash * (1 + guess*wk_pct_chg[idx])\n",
    "        value.append(cash)\n",
    "        idx+=1\n",
    "    else:\n",
    "        cash = cash * (1 - guess*wk_pct_chg[idx])\n",
    "        value.append(cash)\n",
    "        idx+=1"
   ]
  },
  {
   "cell_type": "code",
   "execution_count": 55,
   "id": "94ccfaed",
   "metadata": {},
   "outputs": [
    {
     "name": "stdout",
     "output_type": "stream",
     "text": [
      "[1, 1, -1, 1, 1, 1, 1, -1, 1, -1, 1, 1, 1, -1, 1, 1, 1, 1, 1, 1, 1, -1, 1, 1, 1]\n",
      "Date\n",
      "2023-09-28    0.010068\n",
      "2023-08-25   -0.019966\n",
      "2023-06-29   -0.012685\n",
      "2023-01-10   -0.023787\n",
      "2022-11-30   -0.002043\n",
      "2022-09-28    0.006790\n",
      "2022-08-26    0.048431\n",
      "2022-06-17   -0.003502\n",
      "2022-05-24   -0.028325\n",
      "2022-03-21   -0.043079\n",
      "2021-11-29    0.018685\n",
      "2021-11-09   -0.002048\n",
      "2021-11-08   -0.004883\n",
      "2021-09-24    0.011219\n",
      "2021-08-27   -0.012268\n",
      "2021-08-17    0.000501\n",
      "2021-05-03    0.000796\n",
      "2021-03-18    0.005458\n",
      "2021-02-10   -0.010710\n",
      "2020-10-06   -0.028478\n",
      "2020-08-27   -0.019879\n",
      "2020-06-19    0.000837\n",
      "2020-05-21   -0.034587\n",
      "2020-05-13   -0.009093\n",
      "2020-04-09   -0.067547\n",
      "Name: wk_pct_chg, dtype: float64\n"
     ]
    }
   ],
   "source": [
    "print(random_ints)\n",
    "print(wk_pct_chg)"
   ]
  },
  {
   "cell_type": "code",
   "execution_count": 56,
   "id": "734753e6",
   "metadata": {
    "scrolled": true
   },
   "outputs": [
    {
     "data": {
      "image/png": "[encoded data removed]",
      "text/plain": [
       "<Figure size 1000x600 with 1 Axes>"
      ]
     },
     "metadata": {},
     "output_type": "display_data"
    }
   ],
   "source": [
    "x = range(1, len(value) + 1)\n",
    "\n",
    "plt.figure(figsize=(10, 6))\n",
    "plt.plot(x, value, label='Investment Value', color='g', markersize=6, marker='o', linestyle='-')\n",
    "\n",
    "# labels\n",
    "plt.xlabel('Speech Number', fontsize=14)\n",
    "plt.ylabel('Investment Value', fontsize=14)\n",
    "plt.title('Investment Value Over Time Simulation Example', fontsize=16)\n",
    "\n",
    "# Customize\n",
    "plt.grid(True, linestyle='--', alpha=0.7)\n",
    "plt.legend(loc='best', fontsize=12)\n",
    "plt.show()  "
   ]
  },
  {
   "cell_type": "markdown",
   "id": "207431fa",
   "metadata": {},
   "source": [
    "##### Run the above simulation multiple times to visualize distribution"
   ]
  },
  {
   "cell_type": "code",
   "execution_count": 57,
   "id": "d36bb437",
   "metadata": {},
   "outputs": [],
   "source": [
    "results = []\n",
    "for i in range(1000):\n",
    "    random.seed(i)\n",
    "    random_ints = random.choices([-1, 1], weights=[0.28, 0.72], k=25)\n",
    "    cash = 100\n",
    "    idx = 0\n",
    "    for guess in random_ints:\n",
    "        if wk_pct_chg[idx] > 0:\n",
    "            cash = cash * (1 + guess*wk_pct_chg[idx])\n",
    "            idx+=1\n",
    "        else:\n",
    "            cash = cash * (1 - guess*wk_pct_chg[idx])\n",
    "            idx+=1\n",
    "            \n",
    "    results.append(cash)"
   ]
  },
  {
   "cell_type": "code",
   "execution_count": 58,
   "id": "3aa32b99",
   "metadata": {},
   "outputs": [
    {
     "data": {
      "image/png": "[encoded data removed]",
      "text/plain": [
       "<Figure size 1000x600 with 1 Axes>"
      ]
     },
     "metadata": {},
     "output_type": "display_data"
    }
   ],
   "source": [
    "plt.figure(figsize=(10, 6))\n",
    "plt.hist(results, bins=20, color='skyblue', edgecolor='k', alpha=0.8)\n",
    "\n",
    "\n",
    "plt.xlabel('Ending Market Value', fontsize=14)\n",
    "plt.ylabel('Frequency', fontsize=14)\n",
    "plt.title('Investment Simulation Spread of Outcomes', fontsize=16)\n",
    "\n",
    "plt.grid(True, linestyle='--', alpha=0.5)"
   ]
  },
  {
   "cell_type": "markdown",
   "id": "3031240a",
   "metadata": {},
   "source": [
    "## 7. Notebook Summary"
   ]
  },
  {
   "cell_type": "markdown",
   "id": "ec1fbec9",
   "metadata": {},
   "source": [
    "#### Feature engineering\n",
    "- features relevent for modeling were selected. For example, rolling stock data representing the past for each speech was kept, but data from the \"future\" was removed, because this data will not be available to use when applying the model in the future.\n",
    "- target variable was created: a boolean value representing whether or not the SP500 increased in value from the week before, to the week after a given speech.\n",
    "- Speech texts were vectorized using two models for comparison: TF-IDF and Bag of Words\n",
    "- After vecorization, a subset of data was removed to serve as a validation set\n",
    "- Entries were oversampled to make balanced classes for model training. Both natural datasets and oversampled datasets were preserved for comparison\n",
    "- Data split into independent variables X and response variable y formodel trianing"
   ]
  },
  {
   "cell_type": "markdown",
   "id": "132bc892",
   "metadata": {},
   "source": [
    "#### Initial Model Type Comparison\n",
    "- Logistic Regression, Random Forest Classifier, and Support Vector Machine models were trained and evaluated using each of 4 data inputs to establish which models and data approach work best with the available data.\n",
    "    - TF-IDF vectorization with balanced classes\n",
    "    - TF-IDF with natural/unbalanced classes\n",
    "    - BoW vectorization with balanced classes\n",
    "    - Bow with natural/unbalanced classes\n",
    "- LogReg and RFC models were selected and further tuned\n"
   ]
  },
  {
   "cell_type": "markdown",
   "id": "3ca5b217",
   "metadata": {},
   "source": [
    "#### Final Modeling\n",
    "- Random Forest Classifier was evaluated to have the strongest predictive power\n",
    "- RFC trained on all training data, then evaluated using the full natural dataset, including the holdout validation data"
   ]
  },
  {
   "cell_type": "code",
   "execution_count": null,
   "id": "dcf8f75d",
   "metadata": {},
   "outputs": [],
   "source": []
  }
 ],
 "metadata": {
  "kernelspec": {
   "display_name": "Python 3 (ipykernel)",
   "language": "python",
   "name": "python3"
  },
  "language_info": {
   "codemirror_mode": {
    "name": "ipython",
    "version": 3
   },
   "file_extension": ".py",
   "mimetype": "text/x-python",
   "name": "python",
   "nbconvert_exporter": "python",
   "pygments_lexer": "ipython3",
   "version": "3.11.4"
  }
 },
 "nbformat": 4,
 "nbformat_minor": 5
}
