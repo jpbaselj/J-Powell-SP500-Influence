{
 "cells": [
  {
   "cell_type": "markdown",
   "id": "08c0427f",
   "metadata": {},
   "source": [
    "note: compare different sentiment modeling like nltk VADER, nltk roBERTa"
   ]
  },
  {
   "cell_type": "markdown",
   "id": "3129ee0c",
   "metadata": {},
   "source": [
    "- Time-series modeling ish like generating lag features"
   ]
  }
 ],
 "metadata": {
  "kernelspec": {
   "display_name": "Python 3 (ipykernel)",
   "language": "python",
   "name": "python3"
  },
  "language_info": {
   "codemirror_mode": {
    "name": "ipython",
    "version": 3
   },
   "file_extension": ".py",
   "mimetype": "text/x-python",
   "name": "python",
   "nbconvert_exporter": "python",
   "pygments_lexer": "ipython3",
   "version": "3.11.4"
  }
 },
 "nbformat": 4,
 "nbformat_minor": 5
}
